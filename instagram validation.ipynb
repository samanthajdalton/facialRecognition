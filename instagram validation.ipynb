{
 "cells": [
  {
   "cell_type": "code",
   "execution_count": 6,
   "metadata": {
    "collapsed": false
   },
   "outputs": [
    {
     "name": "stdout",
     "output_type": "stream",
     "text": [
      "Visit this page and authorize access in your browser: https://instagram.com/accounts/login/?force_classic_login=&next=/oauth/authorize%3Fscope%3Dbasic%26redirect_uri%3Dhttps%3A//github.com/samanthajdalton%26response_type%3Dcode%26client_id%3Dfef48f0e216d41ecb308dc9211ce8db0\n",
      "Paste in code in query string after redirect: 433ee25f09db44f1a06c9c526db7d60e\n",
      "access token: \n",
      "(u'2133915067.fef48f0.1d551a6cfbab4a57893028ca731d74ba', {u'username': u'ijustwantapiaccess', u'bio': u'', u'website': u'', u'profile_picture': u'https://instagramimages-a.akamaihd.net/profiles/anonymousUser.jpg', u'full_name': u'', u'id': u'2133915067'})\n"
     ]
    }
   ],
   "source": [
    "import cv\n",
    "from instagram.client import InstagramAPI\n",
    "\n",
    "from instagram.client import InstagramAPI\n",
    "import sys\n",
    "\n",
    "if len(sys.argv) > 1 and sys.argv[1] == 'local':\n",
    "    try:\n",
    "        from test_settings import *\n",
    "\n",
    "        InstagramAPI.host = test_host\n",
    "        InstagramAPI.base_path = test_base_path\n",
    "        InstagramAPI.access_token_field = \"access_token\"\n",
    "        InstagramAPI.authorize_url = test_authorize_url\n",
    "        InstagramAPI.access_token_url = test_access_token_url\n",
    "        InstagramAPI.protocol = test_protocol\n",
    "    except Exception:\n",
    "        pass\n",
    "\n",
    "# Fix Python 2.x.\n",
    "try:\n",
    "    import __builtin__\n",
    "    input = getattr(__builtin__, 'raw_input')\n",
    "except (ImportError, AttributeError):\n",
    "    pass\n",
    "\n",
    "client_id = \"fef48f0e216d41ecb308dc9211ce8db0\"\n",
    "client_secret = \"49bd2df3140548fc9feb4187cdb203f0\"\n",
    "redirect_uri = \"https://github.com/samanthajdalton\"\n",
    "raw_scope = \"\"\n",
    "scope = raw_scope.split(' ')\n",
    "# For basic, API seems to need to be set explicitly\n",
    "if not scope or scope == [\"\"]:\n",
    "    scope = [\"basic\"]\n",
    "\n",
    "api = InstagramAPI(client_id=client_id, client_secret=client_secret, redirect_uri=redirect_uri)\n",
    "redirect_uri = api.get_authorize_login_url(scope = scope)\n",
    "\n",
    "print (\"Visit this page and authorize access in your browser: \"+ redirect_uri)\n",
    "\n",
    "code = (str(input(\"Paste in code in query string after redirect: \").strip()))\n",
    "\n",
    "access_token = api.exchange_code_for_access_token(code)\n",
    "print (\"access token: \" )\n",
    "print (access_token)"
   ]
  },
  {
   "cell_type": "code",
   "execution_count": null,
   "metadata": {
    "collapsed": true
   },
   "outputs": [],
   "source": []
  }
 ],
 "metadata": {
  "kernelspec": {
   "display_name": "Python 2",
   "language": "python",
   "name": "python2"
  },
  "language_info": {
   "codemirror_mode": {
    "name": "ipython",
    "version": 2
   },
   "file_extension": ".py",
   "mimetype": "text/x-python",
   "name": "python",
   "nbconvert_exporter": "python",
   "pygments_lexer": "ipython2",
   "version": "2.7.10"
  }
 },
 "nbformat": 4,
 "nbformat_minor": 0
}
