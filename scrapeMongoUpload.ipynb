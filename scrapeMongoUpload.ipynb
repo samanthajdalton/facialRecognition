{
 "cells": [
  {
   "cell_type": "code",
   "execution_count": 1,
   "metadata": {
    "collapsed": true
   },
   "outputs": [],
   "source": [
    "import json \n",
    "import time\n",
    "import requests\n",
    "import urllib, urllib2\n",
    "from lxml import html\n",
    "from lxml import etree\n",
    "import locale\n",
    "import random\n",
    "import pymongo\n",
    "\n",
    "\n",
    "conn = pymongo.MongoClient()\n",
    "db = conn.faces\n",
    "collection1 = db.temp\n",
    "collection2 = db.urlClubPhotos"
   ]
  },
  {
   "cell_type": "code",
   "execution_count": null,
   "metadata": {
    "collapsed": true
   },
   "outputs": [],
   "source": [
    "\n",
    "def getFBtoInstagramUrls(fbPageName):\n",
    "    #Get FB place id\n",
    "    url = 'https://www.facebook.com/' + fbPageName\n",
    "    r = requests.get(url)\n",
    "    facebookID = r.text.split('\"pageID\":\"')[1].split('\"')[0]\n",
    "\n",
    "    instagramAPIUrl = 'https://api.instagram.com/v1/locations/search?facebook_places_id={0}&client_id=1b724eef0ecc4bd58e63cab65576bec5'\n",
    "\n",
    "    url = instagramAPIUrl.format(facebookID)\n",
    "    r = requests.get(url)\n",
    "    data = json.loads(r.text)\n",
    "    instagramID = data['data'][0]['id']\n",
    "    instagramMediaUrl = 'https://api.instagram.com/v1/locations/{0}/media/recent?client_id=1b724eef0ecc4bd58e63cab65576bec5'\n",
    "    \n",
    "    url = instagramMediaUrl.format(instagramID)\n",
    "    collection.insert(url)\n",
    "    r = requests.get(url)\n",
    "    data = json.loads(r.text)\n",
    "    \n",
    "\n",
    "    allImageUrls = []\n",
    "\n",
    "    #Grabbing image urls for std resolution pics    \n",
    "    for item in data['data']:\n",
    "        imageUrl = item['images']['standard_resolution']['url']\n",
    "            \n",
    "        allImageUrls.append(imageUrl)\n",
    "        \n",
    "\n",
    "    loopThroughPages = True\n",
    "\n",
    "    while loopThroughPages:\n",
    "\n",
    "        if data['pagination']:\n",
    "            nextPageUrl = data['pagination']['next_url']\n",
    "            r = requests.get(nextPageUrl)\n",
    "            data = json.loads(r.text)\n",
    "\n",
    "            for item in data['data']:\n",
    "                imageUrl = item['images']['standard_resolution']['url']\n",
    "                allImageUrls.append(imageUrl)\n",
    "                with open('./data/imageUrlList_FB2instagram_' + fbPageName + '_' + facebookID + '.txt','w') as filename:\n",
    "                    filename.write(str(allImageUrls))\n",
    "                \n",
    "        else:\n",
    "            loopThroughPages = False\n",
    "\n",
    "    return allImageUrls\n",
    "    "
   ]
  }
 ],
 "metadata": {
  "kernelspec": {
   "display_name": "Python 2",
   "language": "python",
   "name": "python2"
  },
  "language_info": {
   "codemirror_mode": {
    "name": "ipython",
    "version": 2
   },
   "file_extension": ".py",
   "mimetype": "text/x-python",
   "name": "python",
   "nbconvert_exporter": "python",
   "pygments_lexer": "ipython2",
   "version": "2.7.10"
  }
 },
 "nbformat": 4,
 "nbformat_minor": 0
}
