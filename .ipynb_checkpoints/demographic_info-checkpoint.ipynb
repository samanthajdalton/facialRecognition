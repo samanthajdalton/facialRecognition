{
 "cells": [
  {
   "cell_type": "code",
   "execution_count": 68,
   "metadata": {
    "collapsed": true
   },
   "outputs": [],
   "source": [
    "import json \n",
    "import time\n",
    "import requests\n",
    "import urllib, urllib2\n",
    "from lxml import html\n",
    "from lxml import etree\n",
    "import locale\n",
    "import random\n",
    "import pymongo\n",
    "from selenium import webdriver  \n",
    "from selenium.common.exceptions import TimeoutException\n",
    "from selenium.webdriver.common.by import By\n",
    "from selenium.webdriver.support.ui import WebDriverWait\n",
    "from selenium.webdriver.support import expected_conditions as EC\n",
    "import pandas as pd\n",
    "import matplotlib.pyplot as plt"
   ]
  },
  {
   "cell_type": "code",
   "execution_count": 7,
   "metadata": {
    "collapsed": true
   },
   "outputs": [],
   "source": [
    "#Connect to mongo\n",
    "conn = pymongo.MongoClient()\n",
    "db = conn.faces\n",
    "collection1 = db.facesMeta"
   ]
  },
  {
   "cell_type": "code",
   "execution_count": 8,
   "metadata": {
    "collapsed": false
   },
   "outputs": [
    {
     "name": "stdout",
     "output_type": "stream",
     "text": [
      "{u'url': u'https://scontent.xx.fbcdn.net/hphotos-xap1/v/t1.0-9/p720x720/12112147_975868252474323_5519238925163208732_n.png?oh=6a547b4d4cdc6fa5911714c9c1a155ba&oe=568C41FE', u'attribute': {u'gender': {u'confidence': 99.9926, u'value': u'Female'}, u'age': {u'range': 6, u'value': 23}, u'pose': {u'yaw_angle': {u'value': -39.432435}, u'pitch_angle': {u'value': 1.9e-05}, u'roll_angle': {u'value': 10.5119}}, u'smiling': {u'value': 71.8681}, u'race': {u'confidence': 98.8683, u'value': u'White'}}, u'fbPageName': u'opiumbarcelona', u'tag': u'', u'img_width': 720, u'img_height': 720, u'svid': u'5|143141875746969', u'position': {u'eye_left': {u'y': 25.238167, u'x': 24.754833}, u'center': {u'y': 26.666667, u'x': 26.5}, u'width': 6.333333, u'mouth_left': {u'y': 28.512333, u'x': 24.843167}, u'height': 6.333333, u'mouth_right': {u'y': 28.852833, u'x': 27.250667}, u'nose': {u'y': 27.706667, u'x': 25.3725}, u'eye_right': {u'y': 25.7905, u'x': 27.7315}}, u'face_id': u'f931ff0429262fdee5435921fc3d9a96', u'_id': ObjectId('560eb0f5d35fb53a656eb3ca')}\n",
      "Female 23\n",
      "Female 19\n",
      "Male 24\n",
      "Male 37\n",
      "Female 30\n",
      "Female 28\n",
      "Female 29\n",
      "Male 33\n",
      "Female 28\n",
      "Female 31\n"
     ]
    }
   ],
   "source": [
    "#collection1.count()\n",
    "print(collection1.find_one())\n",
    "\n",
    "cursor1 = collection1.find()\n",
    "for record in cursor1[0:10]:\n",
    "    print(str(record['attribute']['gender']['value']) + ' ' + str(record['attribute']['age']['value']))\n",
    "    "
   ]
  },
  {
   "cell_type": "code",
   "execution_count": 12,
   "metadata": {
    "collapsed": false
   },
   "outputs": [],
   "source": [
    "data = pd.DataFrame(list(collection1.find()))"
   ]
  },
  {
   "cell_type": "code",
   "execution_count": 14,
   "metadata": {
    "collapsed": false
   },
   "outputs": [
    {
     "data": {
      "text/plain": [
       "Index([       u'_id',  u'attribute',    u'face_id', u'fbPageName',\n",
       "       u'img_height',  u'img_width',   u'position',       u'svid',\n",
       "              u'tag',        u'url'],\n",
       "      dtype='object')"
      ]
     },
     "execution_count": 14,
     "metadata": {},
     "output_type": "execute_result"
    }
   ],
   "source": [
    "data.columns\n"
   ]
  },
  {
   "cell_type": "code",
   "execution_count": 16,
   "metadata": {
    "collapsed": false
   },
   "outputs": [],
   "source": [
    "attributes=data[u'attribute'].apply(pd.Series)"
   ]
  },
  {
   "cell_type": "code",
   "execution_count": 20,
   "metadata": {
    "collapsed": false
   },
   "outputs": [
    {
     "data": {
      "text/plain": [
       "Index([u'age', u'gender', u'pose', u'race', u'smiling'], dtype='object')"
      ]
     },
     "execution_count": 20,
     "metadata": {},
     "output_type": "execute_result"
    }
   ],
   "source": [
    "attributes.columns"
   ]
  },
  {
   "cell_type": "code",
   "execution_count": 63,
   "metadata": {
    "collapsed": false
   },
   "outputs": [],
   "source": [
    "data['gender'] = attributes['gender'].apply(pd.Series)['value']\n",
    "data['age'] = attributes['age'].apply(pd.Series)['value']\n",
    "data['race'] = attributes['race'].apply(pd.Series)['value']"
   ]
  },
  {
   "cell_type": "code",
   "execution_count": 57,
   "metadata": {
    "collapsed": false
   },
   "outputs": [
    {
     "data": {
      "text/plain": [
       "Female    11222\n",
       "Male       9693\n",
       "dtype: int64"
      ]
     },
     "execution_count": 57,
     "metadata": {},
     "output_type": "execute_result"
    }
   ],
   "source": [
    "gender.value_counts()"
   ]
  },
  {
   "cell_type": "code",
   "execution_count": 64,
   "metadata": {
    "collapsed": false
   },
   "outputs": [
    {
     "data": {
      "text/plain": [
       "<bound method DataFrame.head of                             _id                           face_id  \\\n",
       "0      560eb0f5d35fb53a656eb3ca  f931ff0429262fdee5435921fc3d9a96   \n",
       "1      560eb0f5d35fb53a656eb3cb  8d8a8291da1bc2597b0a4f016a8c5360   \n",
       "2      560eb0f7d35fb53a656eb3cc  b4f43043349b4c688f3e86c88e185b31   \n",
       "3      560eb0f9d35fb53a656eb3cd  41d845c1db775f7f0ee4cbf1ce49d69c   \n",
       "4      560eb0f9d35fb53a656eb3ce  e80d10bae895b67e68c0b280e22e66c3   \n",
       "5      560eb0fbd35fb53a656eb3cf  de344abe235acedbfd58276cb6bf3534   \n",
       "6      560eb0fbd35fb53a656eb3d0  63c8fefafd6685ab114aac76534b3be2   \n",
       "7      560eb0fbd35fb53a656eb3d1  f4f7dfcc1530ac6733283a94da74dc74   \n",
       "8      560eb0fbd35fb53a656eb3d2  ac02607abdc6e255461a96132f399724   \n",
       "9      560eb0fbd35fb53a656eb3d3  f6d796705b33c9bdccb33758df847e02   \n",
       "10     560eb0fbd35fb53a656eb3d4  b940591069c45f0ff42d2996e27350b5   \n",
       "11     560eb0fdd35fb53a656eb3d5  c081a0cc54eb59ab0b20f4b6adcd766c   \n",
       "12     560eb0fdd35fb53a656eb3d6  ab2180325cd95cf68232c02bd82f7864   \n",
       "13     560eb100d35fb53a656eb3d7  57c8537b53b8b4bb09a7ea3b08aec40b   \n",
       "14     560eb100d35fb53a656eb3d8  ee0fe0d7a6aae454c45368f0ac8b3db9   \n",
       "15     560eb100d35fb53a656eb3d9  e8ee12133ddaf4275d86c9b9213fd55e   \n",
       "16     560eb100d35fb53a656eb3da  85223a034ffb5fceca3a876eb5b08b00   \n",
       "17     560eb100d35fb53a656eb3db  02ebe9e6e03035c04abffad348f472e6   \n",
       "18     560eb100d35fb53a656eb3dc  6d518a98e23840b1d68e6988e8ed50ed   \n",
       "19     560eb103d35fb53a656eb3dd  2f0fee9c3cf7b0d440be8ce1ea88971e   \n",
       "20     560eb103d35fb53a656eb3de  1555fc3cf8d9934c7601479f976a357c   \n",
       "21     560eb103d35fb53a656eb3df  13e4ad86eb9d3ef157fbd24f93d129de   \n",
       "22     560eb103d35fb53a656eb3e0  12519df6778d10e18136d65453e83a80   \n",
       "23     560eb107d35fb53a656eb3e1  72d5165e187046ddd7ee9a45e8cfa9fd   \n",
       "24     560eb107d35fb53a656eb3e2  a73647b7c37de3c9948c8d1ad6ff50c1   \n",
       "25     560eb107d35fb53a656eb3e3  582d35c41ef8bcfe1e8eca7595134d9c   \n",
       "26     560eb109d35fb53a656eb3e4  e6f3b5bf6f72e93d733fec8c7dde5636   \n",
       "27     560eb109d35fb53a656eb3e5  f6c03cfc970e591e0e86993094f8e781   \n",
       "28     560eb109d35fb53a656eb3e6  66b6c7c2cda1705dac0cc7a6143691b7   \n",
       "29     560eb109d35fb53a656eb3e7  ef161a75e3ac8e9c5a8769c545f39a4f   \n",
       "...                         ...                               ...   \n",
       "20885  561395f3d35fb5793bb2440b  a98b805b3185721519bc1a7584d3e49e   \n",
       "20886  561395f5d35fb5793bb2440c  543481c9652fe105bb2a8e7c79e0ea2e   \n",
       "20887  561395f5d35fb5793bb2440d  40dc4a891b613826d296b96eaea8b4e5   \n",
       "20888  561395f8d35fb5793bb2440e  e337542a7e70347fccca44e830d1eaed   \n",
       "20889  561395fad35fb5793bb2440f  944f46372197ce9345a9d2c9be885dbf   \n",
       "20890  561395fad35fb5793bb24410  b640ba623304c64203c783ce317be5b1   \n",
       "20891  561395fad35fb5793bb24411  ac407e5a109ffd7c5a0e02ad4ada439a   \n",
       "20892  561395fcd35fb5793bb24412  27ad1d269684ebfdabdc4b7696ec19a4   \n",
       "20893  561395fcd35fb5793bb24413  5f677ec8530b02c6bc5f8ff70d11ae36   \n",
       "20894  561395fed35fb5793bb24414  4262daee6175f1e9d0d9cfca47dd425f   \n",
       "20895  561395fed35fb5793bb24415  6399c22ffdf7e7e5152631db8a85aea0   \n",
       "20896  56139600d35fb5793bb24416  25f294d13f4db80a380f9a4774318237   \n",
       "20897  56139600d35fb5793bb24417  61b27a268ad971669500599a3db0ebfd   \n",
       "20898  56139600d35fb5793bb24418  42b82b82d0eee23f6f6b8a48e23013ce   \n",
       "20899  56139602d35fb5793bb24419  f5f93964479c4cb4c145615d1416ec3b   \n",
       "20900  56139602d35fb5793bb2441a  384cf04d3c38fdbf3bacd1cccd2d436c   \n",
       "20901  56139604d35fb5793bb2441b  f7894f5c95119ec5a39a852cbe125a11   \n",
       "20902  56139604d35fb5793bb2441c  13a76264aeb9a8080b2c6c4bdaa141a0   \n",
       "20903  56139604d35fb5793bb2441d  e6e3fefa82796fe38981e64b36293027   \n",
       "20904  56139607d35fb5793bb2441e  8ab3e5528b0e410ee584b39bd4cb4553   \n",
       "20905  56139607d35fb5793bb2441f  4a17f1b9f8842d080e5152c084782bc8   \n",
       "20906  56139607d35fb5793bb24420  2124dd7f9bf69a856ac97c21d135651d   \n",
       "20907  56139609d35fb5793bb24421  7b2962002e25916cdc8252996415672a   \n",
       "20908  56139609d35fb5793bb24422  bcd9b18998232822ac032346e194ca35   \n",
       "20909  56139609d35fb5793bb24423  b9d905f43e33bf2c258eb7f2ed2c67d1   \n",
       "20910  5613960ad35fb5793bb24424  2eeae9ff95e4a2bf20086a866fa69614   \n",
       "20911  5613960ad35fb5793bb24425  b11645a01f7ea593be8605eb920547b5   \n",
       "20912  5613960dd35fb5793bb24426  0b8db454ffdb2715b6e8cd69cc0d5633   \n",
       "20913  5613960dd35fb5793bb24427  b165aabcb0e87c436f7b36c7e93ef236   \n",
       "20914  5613960dd35fb5793bb24428  17d6df829524f2c2be40855d19a5044b   \n",
       "\n",
       "           fbPageName  img_height  img_width  \\\n",
       "0      opiumbarcelona         720        720   \n",
       "1      opiumbarcelona         720        720   \n",
       "2      opiumbarcelona         266        720   \n",
       "3      opiumbarcelona         720        480   \n",
       "4      opiumbarcelona         720        480   \n",
       "5      opiumbarcelona         479        720   \n",
       "6      opiumbarcelona         479        720   \n",
       "7      opiumbarcelona         479        720   \n",
       "8      opiumbarcelona         479        720   \n",
       "9      opiumbarcelona         479        720   \n",
       "10     opiumbarcelona         479        720   \n",
       "11     opiumbarcelona         479        720   \n",
       "12     opiumbarcelona         479        720   \n",
       "13     opiumbarcelona         479        720   \n",
       "14     opiumbarcelona         479        720   \n",
       "15     opiumbarcelona         479        720   \n",
       "16     opiumbarcelona         479        720   \n",
       "17     opiumbarcelona         479        720   \n",
       "18     opiumbarcelona         479        720   \n",
       "19     opiumbarcelona         479        720   \n",
       "20     opiumbarcelona         479        720   \n",
       "21     opiumbarcelona         479        720   \n",
       "22     opiumbarcelona         479        720   \n",
       "23     opiumbarcelona         479        720   \n",
       "24     opiumbarcelona         479        720   \n",
       "25     opiumbarcelona         479        720   \n",
       "26     opiumbarcelona         479        720   \n",
       "27     opiumbarcelona         479        720   \n",
       "28     opiumbarcelona         479        720   \n",
       "29     opiumbarcelona         479        720   \n",
       "...               ...         ...        ...   \n",
       "20885      GrupoArena         480        720   \n",
       "20886      GrupoArena         480        720   \n",
       "20887      GrupoArena         480        720   \n",
       "20888      GrupoArena         720        511   \n",
       "20889      GrupoArena         480        720   \n",
       "20890      GrupoArena         480        720   \n",
       "20891      GrupoArena         480        720   \n",
       "20892      GrupoArena         480        720   \n",
       "20893      GrupoArena         480        720   \n",
       "20894      GrupoArena         480        720   \n",
       "20895      GrupoArena         480        720   \n",
       "20896      GrupoArena         480        720   \n",
       "20897      GrupoArena         480        720   \n",
       "20898      GrupoArena         480        720   \n",
       "20899      GrupoArena         480        720   \n",
       "20900      GrupoArena         480        720   \n",
       "20901      GrupoArena         480        720   \n",
       "20902      GrupoArena         480        720   \n",
       "20903      GrupoArena         480        720   \n",
       "20904      GrupoArena         480        720   \n",
       "20905      GrupoArena         480        720   \n",
       "20906      GrupoArena         480        720   \n",
       "20907      GrupoArena         480        720   \n",
       "20908      GrupoArena         480        720   \n",
       "20909      GrupoArena         480        720   \n",
       "20910      GrupoArena         480        720   \n",
       "20911      GrupoArena         480        720   \n",
       "20912      GrupoArena         480        720   \n",
       "20913      GrupoArena         480        720   \n",
       "20914      GrupoArena         480        720   \n",
       "\n",
       "                                                position               svid  \\\n",
       "0      {u'eye_left': {u'y': 25.238167, u'x': 24.75483...  5|143141875746969   \n",
       "1      {u'eye_left': {u'y': 31.3925, u'x': 19.04}, u'...  5|143141875746969   \n",
       "2      {u'eye_left': {u'y': 27.762715, u'x': 46.813},...  5|143141875746969   \n",
       "3      {u'eye_left': {u'y': 20.5995, u'x': 52.378}, u...  5|143141875746969   \n",
       "4      {u'eye_left': {u'y': 25.3965, u'x': 32.1595}, ...  5|143141875746969   \n",
       "5      {u'eye_left': {u'y': 26.906015, u'x': 66.212},...  5|143141875746969   \n",
       "6      {u'eye_left': {u'y': 25.477945, u'x': 21.697},...  5|143141875746969   \n",
       "7      {u'eye_left': {u'y': 31.464662, u'x': 77.06666...  5|143141875746969   \n",
       "8      {u'eye_left': {u'y': 17.18183, u'x': 34.0765},...  5|143141875746969   \n",
       "9      {u'eye_left': {u'y': 26.831579, u'x': 51.55366...  5|143141875746969   \n",
       "10     {u'eye_left': {u'y': 23.725163, u'x': 42.20983...  5|143141875746969   \n",
       "11     {u'eye_left': {u'y': 28.202506, u'x': 51.32483...  5|143141875746969   \n",
       "12     {u'eye_left': {u'y': 19.172331, u'x': 37.485},...  5|143141875746969   \n",
       "13     {u'eye_left': {u'y': 27.85213, u'x': 34.069}, ...  5|143141875746969   \n",
       "14     {u'eye_left': {u'y': 17.310877, u'x': 52.12333...  5|143141875746969   \n",
       "15     {u'eye_left': {u'y': 33.61203, u'x': 85.359167...  5|143141875746969   \n",
       "16     {u'eye_left': {u'y': 33.118296, u'x': 18.56866...  5|143141875746969   \n",
       "17     {u'eye_left': {u'y': 29.66416, u'x': 3.224333}...  5|143141875746969   \n",
       "18     {u'eye_left': {u'y': 39.778947, u'x': 77.91833...  5|143141875746969   \n",
       "19     {u'eye_left': {u'y': 28.446617, u'x': 24.55716...  5|143141875746969   \n",
       "20     {u'eye_left': {u'y': 16.736767, u'x': 41.47516...  5|143141875746969   \n",
       "21     {u'eye_left': {u'y': 33.042607, u'x': 69.04416...  5|143141875746969   \n",
       "22     {u'eye_left': {u'y': 29.621053, u'x': 55.06683...  5|143141875746969   \n",
       "23     {u'eye_left': {u'y': 27.961153, u'x': 41.67833...  5|143141875746969   \n",
       "24     {u'eye_left': {u'y': 28.206015, u'x': 54.5355}...  5|143141875746969   \n",
       "25     {u'eye_left': {u'y': 73.886717, u'x': 94.20333...  5|143141875746969   \n",
       "26     {u'eye_left': {u'y': 49.235338, u'x': 16.54273...  5|143141875746969   \n",
       "27     {u'eye_left': {u'y': 35.585714, u'x': 77.20833...  5|143141875746969   \n",
       "28     {u'eye_left': {u'y': 28.874687, u'x': 57.02216...  5|143141875746969   \n",
       "29     {u'eye_left': {u'y': 43.205013, u'x': 33.08533...  5|143141875746969   \n",
       "...                                                  ...                ...   \n",
       "20885  {u'eye_left': {u'y': 37.4885, u'x': 59.924167}...  5|202641646419128   \n",
       "20886  {u'eye_left': {u'y': 21.993875, u'x': 59.57883...  5|202641646419128   \n",
       "20887  {u'eye_left': {u'y': 20.933475, u'x': 47.49666...  5|202641646419128   \n",
       "20888  {u'eye_left': {u'y': 33.264833, u'x': 11.79781...  5|202641646419128   \n",
       "20889  {u'eye_left': {u'y': 32.86225, u'x': 47.809833...  5|202641646419128   \n",
       "20890  {u'eye_left': {u'y': 27.575, u'x': 2.987917}, ...  5|202641646419128   \n",
       "20891  {u'eye_left': {u'y': 35.1695, u'x': 78.750167}...  5|202641646419128   \n",
       "20892  {u'eye_left': {u'y': 39.13, u'x': 43.138333}, ...  5|202641646419128   \n",
       "20893  {u'eye_left': {u'y': 24.9826, u'x': 48.857833}...  5|202641646419128   \n",
       "20894  {u'eye_left': {u'y': 25.175, u'x': 48.076167},...  5|202641646419128   \n",
       "20895  {u'eye_left': {u'y': 34.172, u'x': 58.199167},...  5|202641646419128   \n",
       "20896  {u'eye_left': {u'y': 35.4895, u'x': 40.366333}...  5|202641646419128   \n",
       "20897  {u'eye_left': {u'y': 27.18625, u'x': 47.313}, ...  5|202641646419128   \n",
       "20898  {u'eye_left': {u'y': 38.27725, u'x': 61.0325},...  5|202641646419128   \n",
       "20899  {u'eye_left': {u'y': 30.4815, u'x': 57.181333}...  5|202641646419128   \n",
       "20900  {u'eye_left': {u'y': 28.97225, u'x': 48.877667...  5|202641646419128   \n",
       "20901  {u'eye_left': {u'y': 30.6625, u'x': 35.554333}...  5|202641646419128   \n",
       "20902  {u'eye_left': {u'y': 29.50425, u'x': 48.942167...  5|202641646419128   \n",
       "20903  {u'eye_left': {u'y': 27.0965, u'x': 59.535167}...  5|202641646419128   \n",
       "20904  {u'eye_left': {u'y': 26.6205, u'x': 55.277}, u...  5|202641646419128   \n",
       "20905  {u'eye_left': {u'y': 26.20925, u'x': 63.633}, ...  5|202641646419128   \n",
       "20906  {u'eye_left': {u'y': 32.57775, u'x': 10.948}, ...  5|202641646419128   \n",
       "20907  {u'eye_left': {u'y': 22.332225, u'x': 53.46033...  5|202641646419128   \n",
       "20908  {u'eye_left': {u'y': 27.67875, u'x': 38.794167...  5|202641646419128   \n",
       "20909  {u'eye_left': {u'y': 21.689325, u'x': 20.27116...  5|202641646419128   \n",
       "20910  {u'eye_left': {u'y': 26.60575, u'x': 55.669333...  5|202641646419128   \n",
       "20911  {u'eye_left': {u'y': 28.1645, u'x': 45.0355}, ...  5|202641646419128   \n",
       "20912  {u'eye_left': {u'y': 39.94975, u'x': 53.343667...  5|202641646419128   \n",
       "20913  {u'eye_left': {u'y': 28.98675, u'x': 43.832333...  5|202641646419128   \n",
       "20914  {u'eye_left': {u'y': 23.15045, u'x': 51.898833...  5|202641646419128   \n",
       "\n",
       "      tag                                                url  gender  age  \\\n",
       "0          https://scontent.xx.fbcdn.net/hphotos-xap1/v/t...  Female   23   \n",
       "1          https://scontent.xx.fbcdn.net/hphotos-xap1/v/t...  Female   19   \n",
       "2          https://scontent.xx.fbcdn.net/hphotos-xat1/t31...    Male   24   \n",
       "3          https://fbcdn-photos-a-a.akamaihd.net/hphotos-...    Male   37   \n",
       "4          https://fbcdn-photos-a-a.akamaihd.net/hphotos-...  Female   30   \n",
       "5          https://scontent.xx.fbcdn.net/hphotos-xat1/v/t...  Female   28   \n",
       "6          https://scontent.xx.fbcdn.net/hphotos-xat1/v/t...  Female   29   \n",
       "7          https://scontent.xx.fbcdn.net/hphotos-xat1/v/t...    Male   33   \n",
       "8          https://scontent.xx.fbcdn.net/hphotos-xat1/v/t...  Female   28   \n",
       "9          https://scontent.xx.fbcdn.net/hphotos-xat1/v/t...  Female   31   \n",
       "10         https://scontent.xx.fbcdn.net/hphotos-xat1/v/t...  Female   24   \n",
       "11         https://scontent.xx.fbcdn.net/hphotos-xap1/v/t...  Female   46   \n",
       "12         https://scontent.xx.fbcdn.net/hphotos-xap1/v/t...  Female   23   \n",
       "13         https://scontent.xx.fbcdn.net/hphotos-xta1/v/t...  Female   29   \n",
       "14         https://scontent.xx.fbcdn.net/hphotos-xta1/v/t...  Female   16   \n",
       "15         https://scontent.xx.fbcdn.net/hphotos-xta1/v/t...    Male   28   \n",
       "16         https://scontent.xx.fbcdn.net/hphotos-xta1/v/t...    Male   24   \n",
       "17         https://scontent.xx.fbcdn.net/hphotos-xta1/v/t...  Female   22   \n",
       "18         https://scontent.xx.fbcdn.net/hphotos-xta1/v/t...  Female   11   \n",
       "19         https://scontent.xx.fbcdn.net/hphotos-xfp1/v/t...  Female   30   \n",
       "20         https://scontent.xx.fbcdn.net/hphotos-xfp1/v/t...    Male   31   \n",
       "21         https://scontent.xx.fbcdn.net/hphotos-xfp1/v/t...  Female   32   \n",
       "22         https://scontent.xx.fbcdn.net/hphotos-xfp1/v/t...    Male   19   \n",
       "23         https://scontent.xx.fbcdn.net/hphotos-xpa1/v/t...  Female   30   \n",
       "24         https://scontent.xx.fbcdn.net/hphotos-xpa1/v/t...  Female   24   \n",
       "25         https://scontent.xx.fbcdn.net/hphotos-xpa1/v/t...  Female   11   \n",
       "26         https://scontent.xx.fbcdn.net/hphotos-xpf1/v/t...    Male   17   \n",
       "27         https://scontent.xx.fbcdn.net/hphotos-xpf1/v/t...    Male   22   \n",
       "28         https://scontent.xx.fbcdn.net/hphotos-xpf1/v/t...    Male   40   \n",
       "29         https://scontent.xx.fbcdn.net/hphotos-xpf1/v/t...    Male   30   \n",
       "...    ..                                                ...     ...  ...   \n",
       "20885      https://fbcdn-photos-e-a.akamaihd.net/hphotos-...  Female   21   \n",
       "20886      https://fbcdn-photos-d-a.akamaihd.net/hphotos-...    Male   43   \n",
       "20887      https://fbcdn-photos-d-a.akamaihd.net/hphotos-...    Male   27   \n",
       "20888      https://scontent.xx.fbcdn.net/hphotos-xpt1/v/t...    Male   29   \n",
       "20889      https://scontent.xx.fbcdn.net/hphotos-xtp1/v/t...    Male   25   \n",
       "20890      https://scontent.xx.fbcdn.net/hphotos-xtp1/v/t...    Male   33   \n",
       "20891      https://scontent.xx.fbcdn.net/hphotos-xtp1/v/t...    Male   12   \n",
       "20892      https://scontent.xx.fbcdn.net/hphotos-xfp1/v/t...    Male   24   \n",
       "20893      https://scontent.xx.fbcdn.net/hphotos-xfp1/v/t...  Female   34   \n",
       "20894      https://scontent.xx.fbcdn.net/hphotos-xtf1/v/t...    Male   30   \n",
       "20895      https://scontent.xx.fbcdn.net/hphotos-xtf1/v/t...    Male   19   \n",
       "20896      https://scontent.xx.fbcdn.net/hphotos-xpf1/v/t...  Female   29   \n",
       "20897      https://scontent.xx.fbcdn.net/hphotos-xpf1/v/t...    Male   28   \n",
       "20898      https://scontent.xx.fbcdn.net/hphotos-xpf1/v/t...  Female   29   \n",
       "20899      https://scontent.xx.fbcdn.net/hphotos-xpt1/v/t...    Male   36   \n",
       "20900      https://scontent.xx.fbcdn.net/hphotos-xpt1/v/t...    Male   31   \n",
       "20901      https://scontent.xx.fbcdn.net/hphotos-xpt1/v/t...    Male   44   \n",
       "20902      https://scontent.xx.fbcdn.net/hphotos-xpt1/v/t...    Male   19   \n",
       "20903      https://scontent.xx.fbcdn.net/hphotos-xpt1/v/t...    Male   42   \n",
       "20904      https://scontent.xx.fbcdn.net/hphotos-xft1/v/t...    Male   19   \n",
       "20905      https://scontent.xx.fbcdn.net/hphotos-xft1/v/t...    Male   32   \n",
       "20906      https://scontent.xx.fbcdn.net/hphotos-xft1/v/t...    Male   36   \n",
       "20907      https://scontent.xx.fbcdn.net/hphotos-xtf1/v/t...    Male   43   \n",
       "20908      https://scontent.xx.fbcdn.net/hphotos-xtf1/v/t...    Male   33   \n",
       "20909      https://scontent.xx.fbcdn.net/hphotos-xtf1/v/t...    Male   16   \n",
       "20910      https://fbcdn-photos-g-a.akamaihd.net/hphotos-...    Male   26   \n",
       "20911      https://fbcdn-photos-g-a.akamaihd.net/hphotos-...    Male   37   \n",
       "20912      https://scontent.xx.fbcdn.net/hphotos-xpa1/v/t...    Male   34   \n",
       "20913      https://scontent.xx.fbcdn.net/hphotos-xpa1/v/t...    Male   32   \n",
       "20914      https://scontent.xx.fbcdn.net/hphotos-xpa1/v/t...    Male   34   \n",
       "\n",
       "        race  \n",
       "0      White  \n",
       "1      White  \n",
       "2      White  \n",
       "3      White  \n",
       "4      White  \n",
       "5      White  \n",
       "6      White  \n",
       "7      White  \n",
       "8      White  \n",
       "9      White  \n",
       "10     White  \n",
       "11     White  \n",
       "12     White  \n",
       "13     White  \n",
       "14     White  \n",
       "15     White  \n",
       "16     White  \n",
       "17     White  \n",
       "18     White  \n",
       "19     White  \n",
       "20     White  \n",
       "21     White  \n",
       "22     White  \n",
       "23     White  \n",
       "24     White  \n",
       "25     White  \n",
       "26     White  \n",
       "27     White  \n",
       "28     White  \n",
       "29     White  \n",
       "...      ...  \n",
       "20885  White  \n",
       "20886  White  \n",
       "20887  White  \n",
       "20888  White  \n",
       "20889  White  \n",
       "20890  White  \n",
       "20891  White  \n",
       "20892  Black  \n",
       "20893  Asian  \n",
       "20894  White  \n",
       "20895  White  \n",
       "20896  White  \n",
       "20897  White  \n",
       "20898  White  \n",
       "20899  White  \n",
       "20900  White  \n",
       "20901  White  \n",
       "20902  White  \n",
       "20903  White  \n",
       "20904  White  \n",
       "20905  White  \n",
       "20906  White  \n",
       "20907  White  \n",
       "20908  White  \n",
       "20909  White  \n",
       "20910  White  \n",
       "20911  White  \n",
       "20912  White  \n",
       "20913  White  \n",
       "20914  White  \n",
       "\n",
       "[20915 rows x 12 columns]>"
      ]
     },
     "execution_count": 64,
     "metadata": {},
     "output_type": "execute_result"
    }
   ],
   "source": [
    "data.head"
   ]
  },
  {
   "cell_type": "code",
   "execution_count": null,
   "metadata": {
    "collapsed": false,
    "scrolled": true
   },
   "outputs": [],
   "source": [
    "plt.hist(data['age'], 50, normed=1, facecolor='g', alpha=0.75)\n",
    "plt.show()"
   ]
  }
 ],
 "metadata": {
  "kernelspec": {
   "display_name": "Python 2",
   "language": "python",
   "name": "python2"
  },
  "language_info": {
   "codemirror_mode": {
    "name": "ipython",
    "version": 2
   },
   "file_extension": ".py",
   "mimetype": "text/x-python",
   "name": "python",
   "nbconvert_exporter": "python",
   "pygments_lexer": "ipython2",
   "version": "2.7.10"
  }
 },
 "nbformat": 4,
 "nbformat_minor": 0
}
