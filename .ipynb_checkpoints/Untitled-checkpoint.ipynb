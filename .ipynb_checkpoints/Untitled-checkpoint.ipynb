{
 "cells": [
  {
   "cell_type": "code",
   "execution_count": 1,
   "metadata": {
    "collapsed": true
   },
   "outputs": [],
   "source": [
    "from __future__ import division\n",
    "from facepp import API, File\n",
    "import json\n",
    "from pandas.io.json import json_normalize\n",
    "import pandas as pd\n",
    "import time\n",
    "import cv2\n",
    "from pandas import compat\n",
    "from findtools.find_files import (find_files, Match)\n",
    "import codecs\n",
    "from pandas import compat\n",
    "import ast, json\n",
    "from pandas import DataFrame\n",
    "import yaml\n",
    "import numpy as np\n",
    "import pymongo\n",
    "\n",
    "import simplejson\n",
    "import tmpFB\n",
    "import time\n",
    "import codecs\n",
    "import ast"
   ]
  },
  {
   "cell_type": "code",
   "execution_count": 14,
   "metadata": {
    "collapsed": true
   },
   "outputs": [],
   "source": [
    "conn = pymongo.MongoClient()\n",
    "db = conn.faces\n",
    "collection = db.urlClubPhotos\n",
    "collection1 = db.facesMeta\n",
    "collection2= db.facialPoints"
   ]
  },
  {
   "cell_type": "code",
   "execution_count": 9,
   "metadata": {
    "collapsed": false
   },
   "outputs": [],
   "source": [
    "cursor1=[record for record in collection.find({'state': 1})][:100]\n"
   ]
  },
  {
   "cell_type": "code",
   "execution_count": 10,
   "metadata": {
    "collapsed": false
   },
   "outputs": [
    {
     "name": "stdout",
     "output_type": "stream",
     "text": [
      "http://api.us.faceplusplus.com/\n",
      "still going\n"
     ]
    }
   ],
   "source": [
    "\n",
    "\n",
    "api = API('b40d3ea28aad1f2c2aa939dec674abff', '_gYS77zBAL0U60gtv_qebqwRmRWJz4c1')\n",
    "\n",
    "\n",
    "conn = pymongo.MongoClient()\n",
    "db = conn.faces\n",
    "collection = db.urlClubPhotos1\n",
    "collection1 = db.facesMeta2\n",
    "\n",
    "\n",
    "def get_face_meta_url(api):\n",
    "    counter = 0\n",
    "    facesMeta = pd.DataFrame()\n",
    "    facesMetaList = []\n",
    "    noFaces = []\n",
    "   \n",
    "    \n",
    "    for record in cursor1:\n",
    "        \n",
    "        counter += 1  \n",
    "        try:\n",
    "            result = api.detection.detect(url = record['urlOfImage'],  attribute='pose,age,gender,race,smiling')\n",
    "            r_dump = json.dumps(result)\n",
    "            result2 = yaml.safe_load(r_dump)\n",
    "\n",
    "            if counter % 100 == 0:\n",
    "                print('still going')\n",
    "\n",
    "            if len(result['face']) > 0:\n",
    "                collection.update({'urlOfImage': record['urlOfImage']}, {'$set': {'state': 1}})\n",
    "                z = collection.find({},  {'state':1, '_id':0})\n",
    "                for face in result['face']:\n",
    "                    tempDict = face\n",
    "                    tempDict['url'] = record['urlOfImage']\n",
    "                    tempDict['img_width'] = result['img_width']\n",
    "                    tempDict['img_height'] = result['img_height']\n",
    "                    tempDict['svid'] = record['svid']\n",
    "                    tempDict['fbPageName'] = record['fbPageName']\n",
    "                    tempDict['state'] = 0\n",
    "                    collection1.insert(tempDict) \n",
    "\n",
    "            if len(result['face']) == 0:\n",
    "                noFaces.append(record['urlOfImage'])\n",
    "                collection.update({'urlOfImage': record['urlOfImage']}, {'$set': {'state': 1}})\n",
    "        except Exception as x:\n",
    "            collection.update({'urlOfImage': record['urlOfImage']}, {'$set': {'state': 1}})\n",
    "            print('e')\n",
    "            if x.code == 432:\n",
    "                failedLinks.append(record['urlOfImage'])\n",
    "            elif x.code == 502:\n",
    "                time.sleep(60)\n",
    "                print(counter)\n",
    "            else:\n",
    "                print(record['urlOfImage'])\n",
    "            failedLinks.append(record['urlOfImage'])    \n",
    "            \n",
    "get_face_meta_url(api)            \n"
   ]
  },
  {
   "cell_type": "code",
   "execution_count": 12,
   "metadata": {
    "collapsed": false
   },
   "outputs": [
    {
     "data": {
      "text/plain": [
       "{u'_id': ObjectId('5643654dec4f440861252a40'),\n",
       " u'attribute': {u'age': {u'range': 5, u'value': 25},\n",
       "  u'gender': {u'confidence': 99.0625, u'value': u'Male'},\n",
       "  u'pose': {u'pitch_angle': {u'value': -6.8e-05},\n",
       "   u'roll_angle': {u'value': 12.0216},\n",
       "   u'yaw_angle': {u'value': 3.066731}},\n",
       "  u'race': {u'confidence': 99.2735, u'value': u'White'},\n",
       "  u'smiling': {u'value': 98.1717}},\n",
       " u'face_id': u'2ce47e0c65bf770b8be23bc72f1aa93b',\n",
       " u'fbPageName': u'CDLCBarcelona',\n",
       " u'img_height': 479,\n",
       " u'img_width': 720,\n",
       " u'position': {u'center': {u'x': 52.833333, u'y': 23.057644},\n",
       "  u'eye_left': {u'x': 50.334833, u'y': 18.305489},\n",
       "  u'eye_right': {u'x': 56.143833, u'y': 20.165689},\n",
       "  u'height': 19.047619,\n",
       "  u'mouth_left': {u'x': 49.020833, u'y': 26.708772},\n",
       "  u'mouth_right': {u'x': 55.054667, u'y': 28.503258},\n",
       "  u'nose': {u'x': 52.599, u'y': 24.528471},\n",
       "  u'width': 12.666667},\n",
       " u'state': 0,\n",
       " u'svid': u'5|34278350904',\n",
       " u'tag': u'',\n",
       " u'url': u'https://scontent.xx.fbcdn.net/hphotos-xfp1/v/t1.0-9/s720x720/12049565_10153157329355905_4152852565000981199_n.jpg?oh=a13d4288d0a32d422d611e26e8a4254b&oe=569E853A'}"
      ]
     },
     "execution_count": 12,
     "metadata": {},
     "output_type": "execute_result"
    }
   ],
   "source": [
    "collection1.find_one()"
   ]
  },
  {
   "cell_type": "code",
   "execution_count": 15,
   "metadata": {
    "collapsed": false
   },
   "outputs": [],
   "source": [
    "\n",
    "def get_face_points(api):\n",
    "    failedLinks=[]\n",
    "    counter = 0\n",
    "    facesMeta = pd.DataFrame()\n",
    "    facesMetaList = []\n",
    "    noFaces = []\n",
    "    cursor1 = collection1.find({'state': 0})\n",
    "    \n",
    "    for record in cursor1:\n",
    "        \n",
    "        counter += 1  \n",
    "        if counter % 100 == 0:\n",
    "            print('still going')\n",
    "        try:\n",
    "            result = api.detection.landmark(face_id = face[\"face_id\"], type = \"83p\")\n",
    "            collection1.update({'face_id': record['face_id']}, {'$set': {'state': 1}})\n",
    "            tempDict = result\n",
    "            tempDict['url'] = record['url']\n",
    "            tempDict['img_width'] = result['img_width']\n",
    "            tempDict['img_height'] = result['img_height']\n",
    "            tempDict['svid'] = record['svid']\n",
    "            tempDict['fbPageName'] = record['fbPageName']\n",
    "            tempDict['state'] = 0\n",
    "            collection2.insert(tempDict)               \n",
    "        except Exception as x:\n",
    "            collection1.update({'urlOfImage': record['urlOfImage']}, {'$set': {'state': 1}})\n",
    "            print('e')\n",
    "            if x.code == 432:\n",
    "                failedLinks.append(record['urlOfImage'])\n",
    "            elif x.code == 502:\n",
    "                time.sleep(60)\n",
    "                print(counter)\n",
    "            else:\n",
    "                print(record['urlOfImage'])\n",
    "            failedLinks.append(record['urlOfImage'])    \n",
    "            \n",
    "get_face_points(api)            \n",
    "\n"
   ]
  },
  {
   "cell_type": "code",
   "execution_count": 16,
   "metadata": {
    "collapsed": false
   },
   "outputs": [
    {
     "data": {
      "text/plain": [
       "0"
      ]
     },
     "execution_count": 16,
     "metadata": {},
     "output_type": "execute_result"
    }
   ],
   "source": [
    "collection2.count()"
   ]
  }
 ],
 "metadata": {
  "kernelspec": {
   "display_name": "Python 2",
   "language": "python",
   "name": "python2"
  },
  "language_info": {
   "codemirror_mode": {
    "name": "ipython",
    "version": 2
   },
   "file_extension": ".py",
   "mimetype": "text/x-python",
   "name": "python",
   "nbconvert_exporter": "python",
   "pygments_lexer": "ipython2",
   "version": "2.7.10"
  }
 },
 "nbformat": 4,
 "nbformat_minor": 0
}
