{
 "cells": [
  {
   "cell_type": "code",
   "execution_count": 1,
   "metadata": {
    "collapsed": false
   },
   "outputs": [
    {
     "name": "stdout",
     "output_type": "stream",
     "text": [
      "https://api.instagram.com/v1/tags/opiumbarcelona/media/recent?client_id=1b724eef0ecc4bd58e63cab65576bec5&count=500\n",
      "https://scontent.cdninstagram.com/hphotos-xaf1/t51.2885-15/e15/11296882_437100539827123_1864267976_n.jpg\n",
      "https://scontent.cdninstagram.com/hphotos-xaf1/t51.2885-15/e15/11849244_483459995154007_280834503_n.jpg\n",
      "https://scontent.cdninstagram.com/hphotos-xaf1/t51.2885-15/s640x640/sh0.08/e35/11363755_506714012825136_614872415_n.jpg\n",
      "https://scontent.cdninstagram.com/hphotos-xfa1/t51.2885-15/e15/11821265_721620534608645_360764893_n.jpg\n",
      "https://scontent.cdninstagram.com/hphotos-xaf1/t51.2885-15/s640x640/sh0.08/e35/11821783_1641164349457275_773963863_n.jpg\n",
      "https://scontent.cdninstagram.com/hphotos-xaf1/t51.2885-15/e15/11282694_894948380599305_1397500362_n.jpg\n",
      "https://scontent.cdninstagram.com/hphotos-xpa1/t51.2885-15/s640x640/sh0.08/e35/10732025_136155110057830_1797448642_n.jpg\n",
      "https://scontent.cdninstagram.com/hphotos-xfa1/t51.2885-15/s640x640/e15/11375834_923748837703850_1992185484_n.jpg\n",
      "https://scontent.cdninstagram.com/hphotos-xaf1/t51.2885-15/e15/11355825_1449154738724916_539051560_n.jpg\n",
      "https://scontent.cdninstagram.com/hphotos-xaf1/t51.2885-15/e15/11850364_1649427848604165_1158868558_n.jpg\n",
      "https://scontent.cdninstagram.com/hphotos-xaf1/t51.2885-15/e15/11856564_977504035635109_452612565_n.jpg\n",
      "https://scontent.cdninstagram.com/hphotos-xfa1/t51.2885-15/e15/11375258_1612612799018390_711337907_n.jpg\n",
      "https://scontent.cdninstagram.com/hphotos-xaf1/t51.2885-15/e15/11363967_607614616048445_267302891_n.jpg\n",
      "https://scontent.cdninstagram.com/hphotos-xfa1/t51.2885-15/s640x640/e15/11252414_471705896322472_1530507975_n.jpg\n",
      "https://scontent.cdninstagram.com/hphotos-xaf1/t51.2885-15/s640x640/sh0.08/e35/11809896_1644322592502226_454544087_n.jpg\n",
      "https://scontent.cdninstagram.com/hphotos-xaf1/t51.2885-15/s640x640/sh0.08/e35/11856619_1086012094743055_1961834649_n.jpg\n",
      "https://scontent.cdninstagram.com/hphotos-xfp1/t51.2885-15/s640x640/sh0.08/e35/10950543_1599628726969452_936946574_n.jpg\n",
      "https://scontent.cdninstagram.com/hphotos-xfa1/t51.2885-15/e15/11821058_881654578570862_1816550507_n.jpg\n",
      "https://scontent.cdninstagram.com/hphotos-xfa1/t51.2885-15/s640x640/sh0.08/e35/11821313_1484832808482251_476405789_n.jpg\n",
      "https://scontent.cdninstagram.com/hphotos-xaf1/t51.2885-15/s640x640/e15/11379853_409208969273324_61033316_n.jpg\n",
      "https://scontent.cdninstagram.com/hphotos-xfa1/t51.2885-15/s640x640/sh0.08/e35/11324960_1642848802663405_1033789607_n.jpg\n",
      "https://scontent.cdninstagram.com/hphotos-xaf1/t51.2885-15/s640x640/sh0.08/e35/11849193_872520486118496_1743606514_n.jpg\n",
      "https://scontent.cdninstagram.com/hphotos-xaf1/t51.2885-15/s640x640/sh0.08/e35/11373594_1618493548426987_611048921_n.jpg\n",
      "https://scontent.cdninstagram.com/hphotos-xfa1/t51.2885-15/s640x640/sh0.08/e35/11410439_418472808357133_1000377500_n.jpg\n",
      "https://scontent.cdninstagram.com/hphotos-xaf1/t51.2885-15/s640x640/sh0.08/e35/11350911_497843260381921_549574647_n.jpg\n",
      "https://scontent.cdninstagram.com/hphotos-xaf1/t51.2885-15/s640x640/sh0.08/e35/11420731_1129888920388331_468764193_n.jpg\n",
      "https://scontent.cdninstagram.com/hphotos-xaf1/t51.2885-15/s640x640/sh0.08/e35/11359102_990374547688068_81074661_n.jpg\n",
      "https://scontent.cdninstagram.com/hphotos-xfa1/t51.2885-15/s640x640/sh0.08/e35/11249666_805864142859742_1378127953_n.jpg\n",
      "https://scontent.cdninstagram.com/hphotos-xfa1/t51.2885-15/e15/11356622_1453516888290957_91175536_n.jpg\n",
      "https://scontent.cdninstagram.com/hphotos-xaf1/t51.2885-15/s640x640/e15/11849442_1636271723282242_1028767767_n.jpg\n",
      "https://scontent.cdninstagram.com/hphotos-xfa1/t51.2885-15/s640x640/sh0.08/e35/11429243_1260145970662987_1055153730_n.jpg\n",
      "https://scontent.cdninstagram.com/hphotos-xaf1/t51.2885-15/e15/11850340_154460038220713_1744025222_n.jpg\n",
      "https://scontent.cdninstagram.com/hphotos-xaf1/t51.2885-15/s640x640/sh0.08/e35/11350776_1476358112664945_901976200_n.jpg\n"
     ]
    }
   ],
   "source": [
    "import wget\n",
    "import requests\n",
    "import json\n",
    "\n",
    "lat = 41.385514\n",
    "lon = 2.197003\n",
    "dist= 15\n",
    "\n",
    "class InstagramFilesMain(object):\n",
    "    \n",
    "    def __init__(self):\n",
    "        self.imgPath = \"/Users/dev/Desktop/face/pic\" ### change this path\n",
    "\n",
    "        \n",
    "    def downloadProcess(self):\n",
    "        url = 'https://api.instagram.com/v1/tags/opiumbarcelona/media/recent?client_id=1b724eef0ecc4bd58e63cab65576bec5&count=500'        \n",
    "        print(url)\n",
    "        r = requests.get(url) \n",
    "        data = json.loads(r.text)\n",
    "        data_json = json.dumps(obj = data, indent = 4)\n",
    "        fd = open(self.imgPath+\"/details.json\", \"w\")\n",
    "        fd.write(data_json)\n",
    "        fd.close()\n",
    "        data['data']\n",
    "        for item in data['data']:\n",
    "            pic_url = item['images']['standard_resolution']['url']\n",
    "            print(pic_url)\n",
    "            wget.download(pic_url, out=self.imgPath )\n",
    "\n",
    "main = InstagramFilesMain()\n",
    "main.downloadProcess()"
   ]
  },
  {
   "cell_type": "code",
   "execution_count": 19,
   "metadata": {
    "collapsed": false
   },
   "outputs": [
    {
     "ename": "NameError",
     "evalue": "name 'data' is not defined",
     "output_type": "error",
     "traceback": [
      "\u001b[0;31m---------------------------------------------------------------------------\u001b[0m",
      "\u001b[0;31mNameError\u001b[0m                                 Traceback (most recent call last)",
      "\u001b[0;32m<ipython-input-19-0291bd62deaa>\u001b[0m in \u001b[0;36m<module>\u001b[0;34m()\u001b[0m\n\u001b[0;32m----> 1\u001b[0;31m \u001b[0mtype\u001b[0m\u001b[0;34m(\u001b[0m\u001b[0mdata\u001b[0m\u001b[0;34m)\u001b[0m\u001b[0;34m\u001b[0m\u001b[0m\n\u001b[0m",
      "\u001b[0;31mNameError\u001b[0m: name 'data' is not defined"
     ]
    }
   ],
   "source": []
  },
  {
   "cell_type": "code",
   "execution_count": null,
   "metadata": {
    "collapsed": true
   },
   "outputs": [],
   "source": [
    " url = 'https://api.instagram.com/v1/media/search?&lat=' + str(lat) + \\\n",
    "               \"&lng=\" + str(lon) + \"&distance=\" + str(dist) + \"&count=1000&client_id=1b724eef0ecc4bd58e63cab65576bec5\""
   ]
  }
 ],
 "metadata": {
  "kernelspec": {
   "display_name": "Python 2",
   "language": "python",
   "name": "python2"
  },
  "language_info": {
   "codemirror_mode": {
    "name": "ipython",
    "version": 2
   },
   "file_extension": ".py",
   "mimetype": "text/x-python",
   "name": "python",
   "nbconvert_exporter": "python",
   "pygments_lexer": "ipython2",
   "version": "2.7.10"
  }
 },
 "nbformat": 4,
 "nbformat_minor": 0
}
