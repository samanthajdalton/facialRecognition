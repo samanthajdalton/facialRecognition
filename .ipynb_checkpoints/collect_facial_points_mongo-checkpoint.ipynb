{
 "cells": [
  {
   "cell_type": "code",
   "execution_count": null,
   "metadata": {
    "collapsed": true
   },
   "outputs": [],
   "source": [
    "from __future__ import division\n",
    "from facepp import API, File\n",
    "import json\n",
    "from pandas.io.json import json_normalize\n",
    "import pandas as pd\n",
    "import time\n",
    "import cv2\n",
    "from pandas import compat\n",
    "from findtools.find_files import (find_files, Match)\n",
    "import codecs\n",
    "from pandas import compat\n",
    "import ast, json\n",
    "from pandas import DataFrame\n",
    "import yaml\n",
    "import numpy as np\n",
    "import pymongo\n",
    "\n",
    "import simplejson\n",
    "import tmpFB\n",
    "import time\n",
    "import codecs\n",
    "import ast\n",
    "\n",
    "api = API('b40d3ea28aad1f2c2aa939dec674abff', '_gYS77zBAL0U60gtv_qebqwRmRWJz4c1')\n",
    "\n",
    "\n",
    "conn = pymongo.MongoClient()\n",
    "db = conn.faces\n",
    "collection =  db.facesMeta\n",
    "collection1 = db.facePoints"
   ]
  },
  {
   "cell_type": "code",
   "execution_count": null,
   "metadata": {
    "collapsed": true
   },
   "outputs": [],
   "source": [
    "\n",
    "def get_face_points(api):\n",
    "    failedLinks=[]\n",
    "    counter = 0\n",
    "    facesMeta = pd.DataFrame()\n",
    "    facesMetaList = []\n",
    "    noFaces = []\n",
    "    cursor1 = collection.find({'state': 0})\n",
    "    \n",
    "    for record in cursor1:\n",
    "        \n",
    "        counter += 1  \n",
    "        if counter % 100 == 0:\n",
    "            print('still going')\n",
    "        try:\n",
    "            result = api.detection.landmark(face_id = face[\"face_id\"], type = \"83p\")\n",
    "            collection.update({'face_id': record['face_id']}, {'$set': {'state': 1}})\n",
    "            tempDict = result\n",
    "            tempDict['url'] = record['urlOfImage']\n",
    "            tempDict['img_width'] = result['img_width']\n",
    "            tempDict['img_height'] = result['img_height']\n",
    "            tempDict['svid'] = record['svid']\n",
    "            tempDict['fbPageName'] = record['fbPageName']\n",
    "            tempDict['state'] = 0\n",
    "            collection1.insert(tempDict)               \n",
    "        except Exception as x:\n",
    "            collection.update({'urlOfImage': record['urlOfImage']}, {'$set': {'state': 1}})\n",
    "            print('e')\n",
    "            if x.code == 432:\n",
    "                failedLinks.append(record['urlOfImage'])\n",
    "            elif x.code == 502:\n",
    "                time.sleep(60)\n",
    "                print(counter)\n",
    "            else:\n",
    "                print(record['urlOfImage'])\n",
    "            failedLinks.append(record['urlOfImage'])    \n",
    "            \n",
    "get_face_points(api)            \n",
    "\n"
   ]
  }
 ],
 "metadata": {
  "kernelspec": {
   "display_name": "Python 2",
   "language": "python",
   "name": "python2"
  },
  "language_info": {
   "codemirror_mode": {
    "name": "ipython",
    "version": 2
   },
   "file_extension": ".py",
   "mimetype": "text/x-python",
   "name": "python",
   "nbconvert_exporter": "python",
   "pygments_lexer": "ipython2",
   "version": "2.7.10"
  }
 },
 "nbformat": 4,
 "nbformat_minor": 0
}
