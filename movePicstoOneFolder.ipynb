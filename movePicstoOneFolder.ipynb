{
 "cells": [
  {
   "cell_type": "code",
   "execution_count": 2,
   "metadata": {
    "collapsed": true
   },
   "outputs": [],
   "source": [
    "import cv2\n",
    "import sys\n",
    "from findtools.find_files import (find_files, Match)\n",
    "import json\n",
    "import exifread\n",
    "from facepp import API, File\n",
    "import os\n",
    "import pandas as pd\n",
    "import numpy as np\n",
    "import time\n",
    "from pandas.io.json import json_normalize\n",
    "from pandas import compat\n",
    "compat.PY3 = True"
   ]
  },
  {
   "cell_type": "code",
   "execution_count": 17,
   "metadata": {
    "collapsed": true
   },
   "outputs": [],
   "source": [
    "infile_path = '/Users/dev/Desktop/CFD2/Images'\n",
    "outfile_path = '/Users/dev/Desktop/CFD2/images2'"
   ]
  },
  {
   "cell_type": "code",
   "execution_count": 35,
   "metadata": {
    "collapsed": false
   },
   "outputs": [],
   "source": [
    "found_files = find_files(path=infile_path)"
   ]
  },
  {
   "cell_type": "code",
   "execution_count": 37,
   "metadata": {
    "collapsed": false
   },
   "outputs": [],
   "source": [
    "for item in list(found_files):\n",
    "    sh_files_pattern = Match(filetype='f', name='*.jp*')\n",
    "    found_folder = find_files(path=item, match=sh_files_pattern)\n",
    "    \n",
    "    for pic in list(found_folder):\n",
    "        imgpath = pic \n",
    "        image = cv2.imread(imgpath)\n",
    "        printid=outfile_path + imgpath.replace(item,'')\n",
    "        cv2.imwrite(printid, image)\n"
   ]
  }
 ],
 "metadata": {
  "kernelspec": {
   "display_name": "Python 2",
   "language": "python",
   "name": "python2"
  },
  "language_info": {
   "codemirror_mode": {
    "name": "ipython",
    "version": 2
   },
   "file_extension": ".py",
   "mimetype": "text/x-python",
   "name": "python",
   "nbconvert_exporter": "python",
   "pygments_lexer": "ipython2",
   "version": "2.7.10"
  }
 },
 "nbformat": 4,
 "nbformat_minor": 0
}
