{
 "cells": [
  {
   "cell_type": "code",
   "execution_count": 36,
   "metadata": {
    "collapsed": false
   },
   "outputs": [],
   "source": [
    "import cv2\n",
    "from facepp import API, File\n",
    "import pandas as pd\n",
    "import time\n",
    "import json\n",
    "from pandas.io.json import json_normalize\n",
    "import wget\n",
    "\n",
    "from pandas import compat\n",
    "from findtools.find_files import (find_files, Match)\n",
    "import codecs\n",
    "from pandas import compat\n",
    "import ast, json\n",
    "from pandas import DataFrame\n",
    "import yaml\n",
    "import numpy as np\n",
    "from __future__ import division\n",
    "import simplejson\n",
    "import tmpFB\n",
    "from skimage import io"
   ]
  },
  {
   "cell_type": "code",
   "execution_count": 2,
   "metadata": {
    "collapsed": true
   },
   "outputs": [
    {
     "name": "stdout",
     "output_type": "stream",
     "text": [
      "28\n",
      "HomePAgeURL _____ _______ _____https://www.facebook.com/opiumbarcelona/photos/pb.143141875746969.-2207520000.1442505363./968151706579311/?type=3&src=https%3A%2F%2Fscontent-mad1-1.xx.fbcdn.net%2Fhphotos-xtf1%2Ft31.0-8%2F12029852_968151706579311_5830683328690689007_o.jpg&smallsrc=https%3A%2F%2Fscontent-mad1-1.xx.fbcdn.net%2Fhphotos-xat1%2Fv%2Ft1.0-9%2F12042722_968151706579311_5830683328690689007_n.jpg%3Foh%3Db5b35fcdce1052854f675aa0eb716d4d%26oe%3D56A93996&size=1772%2C1181&fbid=968151706579311\n",
      "IMAGE_____URL______https://scontent-mad1-1.xx.fbcdn.net/hphotos-xat1/v/t1.0-9/s720x720/12042722_968151706579311_5830683328690689007_n.jpg?oh=8417aa47b42737b6a8a1fa2cdb52ccf6&oe=56A9B7F4\n"
     ]
    },
    {
     "data": {
      "text/plain": [
       "['https://scontent-mad1-1.xx.fbcdn.net/hphotos-xat1/v/t1.0-9/s720x720/12042722_968151706579311_5830683328690689007_n.jpg?oh=8417aa47b42737b6a8a1fa2cdb52ccf6&oe=56A9B7F4',\n",
       " 'https://scontent-mad1-1.xx.fbcdn.net/hphotos-xpt1/v/t1.0-9/s720x720/12027585_968151686579313_8575067165537393287_n.jpg?oh=90bf9a762d5c1ac45d976702f3185bdd&oe=56A51833',\n",
       " 'https://scontent-mad1-1.xx.fbcdn.net/hphotos-xtp1/v/t1.0-9/s720x720/12036941_968151666579315_2643543059551156130_n.jpg?oh=778186e95b644f29afb5eb4ad1a6ec7d&oe=566EBB94',\n",
       " 'https://scontent-mad1-1.xx.fbcdn.net/hphotos-xat1/v/t1.0-9/s720x720/12006360_968151626579319_3619536577329410501_n.jpg?oh=53657e16583780c7d0037d399fbeac4a&oe=5665C4D7',\n",
       " 'https://fbcdn-photos-c-a.akamaihd.net/hphotos-ak-xpf1/v/t1.0-0/p480x480/12032197_968151583245990_4976107273627107159_n.jpg?oh=02ea1652e1a0431ce40e6a4cd6059977&oe=569E0313&__gda__=1453488558_3f05d9c494f68f2aa202b8bff2efef82',\n",
       " 'https://fbcdn-photos-a-a.akamaihd.net/hphotos-ak-xfa1/v/t1.0-0/p480x480/11178355_968151573245991_4309325844117210519_n.jpg?oh=4e3953c0713335655520094201967f36&oe=56A0B9C9&__gda__=1450040859_12e90184ebac76795882971283434c2f',\n",
       " 'https://scontent-mad1-1.xx.fbcdn.net/hphotos-xta1/v/t1.0-0/p480x480/12036485_968151543245994_359238860597917800_n.jpg?oh=06016a6acbd7bd68c9b4d601d4188c2a&oe=566299AF',\n",
       " 'https://scontent-mad1-1.xx.fbcdn.net/hphotos-xpf1/v/t1.0-9/s720x720/12003884_968151503245998_5450068078549179240_n.jpg?oh=3ea07bfbc6ce1a001b50c35301a74e83&oe=5665FDD4',\n",
       " 'https://scontent-mad1-1.xx.fbcdn.net/hphotos-xfp1/v/t1.0-9/s720x720/10257202_968151483246000_4773861921668523252_n.jpg?oh=2ebd6bda7fcc944a5147ac83cce9f846&oe=566DA993',\n",
       " 'https://scontent-mad1-1.xx.fbcdn.net/hphotos-xft1/v/t1.0-0/p480x480/12036878_968151449912670_8547949984489028099_n.jpg?oh=220cf499fcd0b42e29a80374f6b79a28&oe=56603EC0',\n",
       " 'https://scontent-mad1-1.xx.fbcdn.net/hphotos-xft1/v/t1.0-9/s720x720/11260424_968151429912672_436714951111959564_n.jpg?oh=f15a90f8e52abf77973b8f0b60c4a020&oe=56611E41',\n",
       " 'https://scontent-mad1-1.xx.fbcdn.net/hphotos-xap1/v/t1.0-9/s720x720/11949344_968151413246007_2529921528236992914_n.jpg?oh=256228c15bbf64bda9110ff1ee431b63&oe=5699A4EA',\n",
       " 'https://scontent-mad1-1.xx.fbcdn.net/hphotos-xpt1/v/t1.0-9/s720x720/12004907_968151379912677_5819547625305383541_n.jpg?oh=59ea5e5f9625de2ecbec22440ff61b21&oe=566DED3B',\n",
       " 'https://fbcdn-photos-a-a.akamaihd.net/hphotos-ak-xta1/v/t1.0-0/p480x480/12002823_968151346579347_2832849211618841785_n.jpg?oh=1ebaf17aacbfcb0aab64d9307f0fda24&oe=56AB3289&__gda__=1450036220_0b5996e118299680c77d2c2fda38d2ea',\n",
       " 'https://scontent-mad1-1.xx.fbcdn.net/hphotos-xfp1/v/t1.0-9/s720x720/12002265_968151213246027_8796871240612916136_n.jpg?oh=5eaae67ba8a0cf7c911c354f12d92a7f&oe=56A3E894',\n",
       " 'https://fbcdn-photos-g-a.akamaihd.net/hphotos-ak-xpt1/v/t1.0-0/p480x480/12038302_968151193246029_9011531313514429347_n.jpg?oh=4a637bc5aafe87d8409240629d7b2e91&oe=565F2DBC&__gda__=1449268122_d16c925a9776f44a21ea1527c32a88bd',\n",
       " 'https://scontent-mad1-1.xx.fbcdn.net/hphotos-xat1/v/t1.0-0/p480x480/12036389_968151176579364_4488228601767008468_n.jpg?oh=a0954231ae062051d097c670630b2c3c&oe=56A09490',\n",
       " 'https://scontent-mad1-1.xx.fbcdn.net/hphotos-xpt1/v/t1.0-9/s720x720/12038351_968151086579373_4170444798045146323_n.jpg?oh=c40dbd1ea73596a03eb9a1eb83d1fc32&oe=56A5E1F5',\n",
       " 'https://scontent-mad1-1.xx.fbcdn.net/hphotos-xaf1/v/t1.0-9/s720x720/12032243_968151073246041_152770131218788016_n.jpg?oh=244f9704566664b7e77f15a4a7dee9d1&oe=56AB5C9E',\n",
       " 'https://scontent-mad1-1.xx.fbcdn.net/hphotos-xft1/v/t1.0-0/p480x480/12006239_968151069912708_4676481571115531038_n.jpg?oh=05baf97be0421b38c79860a471461dfb&oe=56A85F6A',\n",
       " 'https://scontent-mad1-1.xx.fbcdn.net/hphotos-xpf1/v/t1.0-9/s720x720/12004953_968151019912713_3690226763811572970_n.jpg?oh=38f95ce7fbdbb3c2bc6c21b77faf396a&oe=566E750A',\n",
       " 'https://scontent-mad1-1.xx.fbcdn.net/hphotos-xlf1/v/t1.0-9/s720x720/11998855_968150986579383_3829547389134366915_n.jpg?oh=f10107bb30b526015b01d0031c5bd3da&oe=5661BB01',\n",
       " 'https://scontent-mad1-1.xx.fbcdn.net/hphotos-xfp1/v/t1.0-9/s720x720/12039392_968150973246051_1522854009731637299_n.jpg?oh=9f4dde86ffc677d49a7b59e7e24af0ef&oe=56A41D46',\n",
       " 'https://scontent-mad1-1.xx.fbcdn.net/hphotos-xfa1/v/t1.0-9/s720x720/12009778_968150923246056_1534292947462114370_n.jpg?oh=7a6381453e28d97798943a640e62f06f&oe=566EA699',\n",
       " 'https://scontent-mad1-1.xx.fbcdn.net/hphotos-xfp1/v/t1.0-9/s720x720/12009741_968150899912725_5403031453157058629_n.jpg?oh=f4d424849d3a27e5830f118629ca2e54&oe=5698C94C',\n",
       " 'https://fbcdn-photos-e-a.akamaihd.net/hphotos-ak-xpf1/v/t1.0-0/p480x480/12003949_968150893246059_6861485920442626028_n.jpg?oh=c178f4ccaafaab8d84d3ed88ab87a796&oe=56A2BB44&__gda__=1453998073_e2dee3f6db0e803b05d03dceee617d4d',\n",
       " 'https://scontent-mad1-1.xx.fbcdn.net/hphotos-xpf1/v/t1.0-9/s720x720/12032163_968150859912729_2575930113337191443_n.jpg?oh=7e6a4215757d34b05c32ea21d61b5e7a&oe=56658181',\n",
       " 'https://fbcdn-photos-h-a.akamaihd.net/hphotos-ak-xap1/v/t1.0-0/p480x480/12032082_968150839912731_2555104251574127172_n.jpg?oh=89feac3d53eb944edd00b3cf47140146&oe=56663794&__gda__=1452836554_7248f6fa66affdc314b2393229d0395a']"
      ]
     },
     "execution_count": 2,
     "metadata": {},
     "output_type": "execute_result"
    }
   ],
   "source": [
    "club = 'opiumbarcelona'\n",
    "tmpFB.getPicUrls(club, False)"
   ]
  },
  {
   "cell_type": "code",
   "execution_count": 64,
   "metadata": {
    "collapsed": false
   },
   "outputs": [
    {
     "name": "stdout",
     "output_type": "stream",
     "text": [
      "http://api.us.faceplusplus.com/\n"
     ]
    }
   ],
   "source": [
    "api = API('b40d3ea28aad1f2c2aa939dec674abff', '_gYS77zBAL0U60gtv_qebqwRmRWJz4c1')\n",
    "faceCascade = cv2.CascadeClassifier('/Users/dev01/Documents/Docs/haarcascade_frontalface_default.xml')\n",
    "\n",
    "noFaces = []\n",
    "def get_face_meta_url(found_files, api, club):\n",
    "\n",
    "   \n",
    "    facesMeta = pd.DataFrame()\n",
    "    facesMetaList = []\n",
    "    noFaces = []\n",
    "\n",
    "    for idx, imgpath in enumerate(found_files): \n",
    "        try:\n",
    "            imgName = imgpath[imgpath.rfind('/',0)+1:]\n",
    "            picPath = wget.download(imgpath, out='./temp/'+ imgName )\n",
    "            print(imgpath)\n",
    "            print(picPath)\n",
    "            image = cv2.imread(picPath)\n",
    "            print(image.shape)\n",
    "            gray = cv2.cvtColor(image, cv2.COLOR_BGR2GRAY)\n",
    "            cv2faces = faceCascade.detectMultiScale(\n",
    "            gray,\n",
    "            scaleFactor=1.1,\n",
    "            minNeighbors=5,\n",
    "            minSize=(30, 30),\n",
    "            flags = cv2.cv.CV_HAAR_SCALE_IMAGE)\n",
    "            print(len(cv2faces))\n",
    "\n",
    "            if len(cv2faces) > 0: \n",
    "                result = api.detection.detect(url = imgpath,  attribute=\"pose,age,gender,race, smile\")\n",
    "                r_dump = json.dumps(result)\n",
    "                result2=yaml.safe_load(r_dump)\n",
    "                if idx % 100 == 0:\n",
    "                    print('still going')\n",
    "                if len(result['face']) > 0:\n",
    "                    for face in result['face']:\n",
    "                        tempDict = face\n",
    "                        tempDict['url'] = imgpath\n",
    "                        tempDict['img_width'] = result['img_width']\n",
    "                        tempDict['img_height'] = result['img_height']\n",
    "                        facesMetaList.append(tempDict)\n",
    "                        temp = json_normalize(tempDict)\n",
    "                        facesMeta = pd.concat([facesMeta, temp], axis=0, ignore_index = True)\n",
    "                if len(result['face']) == 0:\n",
    "                    os.remove(picPath)\n",
    "                    noFaces.append(imgpath)\n",
    "        except:\n",
    "            None\n",
    "\n",
    "    facesMeta.to_pickle(\"./data/facesMeta\" + club + \"_\" + time.strftime(\"%Y%m%d\")  + \".pkl\")\n",
    "\n",
    "    return(facesMeta, facesMetaList)\n",
    "    "
   ]
  },
  {
   "cell_type": "code",
   "execution_count": 65,
   "metadata": {
    "collapsed": false
   },
   "outputs": [
    {
     "name": "stdout",
     "output_type": "stream",
     "text": [
      "https://scontent.cdninstagram.com/hphotos-xaf1/t51.2885-15/s640x640/sh0.08/e35/11881878_1498393017147001_881686938_n.jpg\n",
      "./temp/11881878_1498393017147001_881686938_n.jpg\n",
      "(640, 640, 3)\n",
      "0\n",
      "https://scontent.cdninstagram.com/hphotos-xaf1/t51.2885-15/s640x640/sh0.08/e35/11875371_1033292933379422_1784978011_n.jpg\n",
      "./temp/11875371_1033292933379422_1784978011_n.jpg\n",
      "(640, 640, 3)\n",
      "0\n",
      "https://scontent.cdninstagram.com/hphotos-xaf1/t51.2885-15/e15/11821275_889570074455568_1683135147_n.jpg\n",
      "./temp/11821275_889570074455568_1683135147_n.jpg\n",
      "(640, 640, 3)\n",
      "0\n",
      "https://scontent.cdninstagram.com/hphotos-xaf1/t51.2885-15/s640x640/sh0.08/e35/11906337_1636405696609966_2140883206_n.jpg\n",
      "./temp/11906337_1636405696609966_2140883206_n.jpg\n",
      "(640, 640, 3)\n",
      "0\n",
      "https://scontent.cdninstagram.com/hphotos-xfa1/t51.2885-15/s640x640/sh0.08/e35/11849252_410009355851486_1240370951_n.jpg\n",
      "./temp/11849252_410009355851486_1240370951_n.jpg\n",
      "(640, 640, 3)\n",
      "0\n",
      "https://scontent.cdninstagram.com/hphotos-xfa1/t51.2885-15/s640x640/sh0.08/e35/11910476_159092277765477_1385619302_n.jpg\n",
      "./temp/11910476_159092277765477_1385619302_n.jpg\n",
      "(640, 640, 3)\n",
      "0\n",
      "https://scontent.cdninstagram.com/hphotos-xfa1/t51.2885-15/s640x640/sh0.08/e35/11950586_993645210699673_95893220_n.jpg\n",
      "./temp/11950586_993645210699673_95893220_n.jpg\n",
      "(640, 640, 3)\n",
      "0\n",
      "https://scontent.cdninstagram.com/hphotos-xaf1/t51.2885-15/e15/11917785_1190726787609790_1310988424_n.jpg\n",
      "./temp/11917785_1190726787609790_1310988424_n.jpg\n",
      "https://scontent.cdninstagram.com/hphotos-xaf1/t51.2885-15/s640x640/sh0.08/e35/11352057_1643577722565884_912918441_n.jpg\n",
      "./temp/11352057_1643577722565884_912918441_n.jpg\n",
      "(640, 640, 3)\n",
      "0\n",
      "https://scontent.cdninstagram.com/hphotos-xaf1/t51.2885-15/s640x640/sh0.08/e35/11849004_946936388685382_1662527619_n.jpg\n",
      "./temp/11849004_946936388685382_1662527619_n.jpg\n",
      "(640, 640, 3)\n",
      "0\n",
      "['https://scontent.cdninstagram.com/hphotos-xaf1/t51.2885-15/s640x640/sh0.08/e35/11881878_1498393017147001_881686938_n.jpg', 'https://scontent.cdninstagram.com/hphotos-xaf1/t51.2885-15/s640x640/sh0.08/e35/11875371_1033292933379422_1784978011_n.jpg', 'https://scontent.cdninstagram.com/hphotos-xaf1/t51.2885-15/e15/11821275_889570074455568_1683135147_n.jpg', 'https://scontent.cdninstagram.com/hphotos-xaf1/t51.2885-15/s640x640/sh0.08/e35/11906337_1636405696609966_2140883206_n.jpg', 'https://scontent.cdninstagram.com/hphotos-xfa1/t51.2885-15/s640x640/sh0.08/e35/11849252_410009355851486_1240370951_n.jpg', 'https://scontent.cdninstagram.com/hphotos-xfa1/t51.2885-15/s640x640/sh0.08/e35/11910476_159092277765477_1385619302_n.jpg', 'https://scontent.cdninstagram.com/hphotos-xfa1/t51.2885-15/s640x640/sh0.08/e35/11950586_993645210699673_95893220_n.jpg', 'https://scontent.cdninstagram.com/hphotos-xaf1/t51.2885-15/e15/11917785_1190726787609790_1310988424_n.jpg', 'https://scontent.cdninstagram.com/hphotos-xaf1/t51.2885-15/s640x640/sh0.08/e35/11352057_1643577722565884_912918441_n.jpg', 'https://scontent.cdninstagram.com/hphotos-xaf1/t51.2885-15/s640x640/sh0.08/e35/11849004_946936388685382_1662527619_n.jpg']\n",
      "--- 4.92671108246 seconds ---\n"
     ]
    }
   ],
   "source": [
    "import time\n",
    "import codecs\n",
    "import ast\n",
    "import getMetaFace\n",
    "start_time = time.time()\n",
    "\n",
    "x = codecs.open('./data/imageUrlList_FB2instagram_opiumbarcelona1_143141875746969.txt','r', encoding='utf-8')\n",
    "x1 = x.read()\n",
    "found_files = ast.literal_eval(x1)\n",
    "found_files = [item.encode('ascii','ignore') for item in found_files][0:10]\n",
    "y = get_face_meta_url(found_files[0:20], api, 'opiumbarcelona')\n",
    "print(found_files)\n",
    "print(\"--- %s seconds ---\" % (time.time() - start_time))"
   ]
  },
  {
   "cell_type": "code",
   "execution_count": 59,
   "metadata": {
    "collapsed": false
   },
   "outputs": [
    {
     "ename": "ValueError",
     "evalue": "All objects passed were None",
     "output_type": "error",
     "traceback": [
      "\u001b[0;31m---------------------------------------------------------------------------\u001b[0m",
      "\u001b[0;31mValueError\u001b[0m                                Traceback (most recent call last)",
      "\u001b[0;32m<ipython-input-59-3a73d96112ca>\u001b[0m in \u001b[0;36m<module>\u001b[0;34m()\u001b[0m\n\u001b[0;32m----> 1\u001b[0;31m \u001b[0;32mprint\u001b[0m\u001b[0;34m(\u001b[0m\u001b[0my\u001b[0m\u001b[0;34m[\u001b[0m\u001b[0;36m0\u001b[0m\u001b[0;34m]\u001b[0m\u001b[0;34m.\u001b[0m\u001b[0mdescribe\u001b[0m\u001b[0;34m(\u001b[0m\u001b[0;34m)\u001b[0m\u001b[0;34m)\u001b[0m\u001b[0;34m\u001b[0m\u001b[0m\n\u001b[0m\u001b[1;32m      2\u001b[0m \u001b[0;32mprint\u001b[0m\u001b[0;34m(\u001b[0m\u001b[0my\u001b[0m\u001b[0;34m[\u001b[0m\u001b[0;36m0\u001b[0m\u001b[0;34m]\u001b[0m\u001b[0;34m.\u001b[0m\u001b[0mcolumns\u001b[0m\u001b[0;34m)\u001b[0m\u001b[0;34m\u001b[0m\u001b[0m\n\u001b[1;32m      3\u001b[0m \u001b[0;31m#counts by gender and race\u001b[0m\u001b[0;34m\u001b[0m\u001b[0;34m\u001b[0m\u001b[0m\n\u001b[1;32m      4\u001b[0m \u001b[0mpd\u001b[0m\u001b[0;34m.\u001b[0m\u001b[0mcrosstab\u001b[0m\u001b[0;34m(\u001b[0m\u001b[0my\u001b[0m\u001b[0;34m[\u001b[0m\u001b[0;36m0\u001b[0m\u001b[0;34m]\u001b[0m\u001b[0;34m[\u001b[0m\u001b[0;34m'attribute.gender.value'\u001b[0m\u001b[0;34m]\u001b[0m\u001b[0;34m,\u001b[0m\u001b[0my\u001b[0m\u001b[0;34m[\u001b[0m\u001b[0;36m0\u001b[0m\u001b[0;34m]\u001b[0m\u001b[0;34m[\u001b[0m\u001b[0;34m'attribute.race.value'\u001b[0m\u001b[0;34m]\u001b[0m\u001b[0;34m)\u001b[0m\u001b[0;34m\u001b[0m\u001b[0m\n\u001b[1;32m      5\u001b[0m \u001b[0;31m#unique urls\u001b[0m\u001b[0;34m\u001b[0m\u001b[0;34m\u001b[0m\u001b[0m\n",
      "\u001b[0;32m/Users/dev/anaconda/lib/python2.7/site-packages/pandas/core/generic.pyc\u001b[0m in \u001b[0;36mdescribe\u001b[0;34m(self, percentile_width, percentiles, include, exclude)\u001b[0m\n\u001b[1;32m   4119\u001b[0m                 \u001b[0;32mif\u001b[0m \u001b[0mname\u001b[0m \u001b[0;32mnot\u001b[0m \u001b[0;32min\u001b[0m \u001b[0mnames\u001b[0m\u001b[0;34m:\u001b[0m\u001b[0;34m\u001b[0m\u001b[0m\n\u001b[1;32m   4120\u001b[0m                     \u001b[0mnames\u001b[0m\u001b[0;34m.\u001b[0m\u001b[0mappend\u001b[0m\u001b[0;34m(\u001b[0m\u001b[0mname\u001b[0m\u001b[0;34m)\u001b[0m\u001b[0;34m\u001b[0m\u001b[0m\n\u001b[0;32m-> 4121\u001b[0;31m         \u001b[0md\u001b[0m \u001b[0;34m=\u001b[0m \u001b[0mpd\u001b[0m\u001b[0;34m.\u001b[0m\u001b[0mconcat\u001b[0m\u001b[0;34m(\u001b[0m\u001b[0mldesc\u001b[0m\u001b[0;34m,\u001b[0m \u001b[0mjoin_axes\u001b[0m\u001b[0;34m=\u001b[0m\u001b[0mpd\u001b[0m\u001b[0;34m.\u001b[0m\u001b[0mIndex\u001b[0m\u001b[0;34m(\u001b[0m\u001b[0;34m[\u001b[0m\u001b[0mnames\u001b[0m\u001b[0;34m]\u001b[0m\u001b[0;34m)\u001b[0m\u001b[0;34m,\u001b[0m \u001b[0maxis\u001b[0m\u001b[0;34m=\u001b[0m\u001b[0;36m1\u001b[0m\u001b[0;34m)\u001b[0m\u001b[0;34m\u001b[0m\u001b[0m\n\u001b[0m\u001b[1;32m   4122\u001b[0m         \u001b[0;32mreturn\u001b[0m \u001b[0md\u001b[0m\u001b[0;34m\u001b[0m\u001b[0m\n\u001b[1;32m   4123\u001b[0m \u001b[0;34m\u001b[0m\u001b[0m\n",
      "\u001b[0;32m/Users/dev/anaconda/lib/python2.7/site-packages/pandas/tools/merge.pyc\u001b[0m in \u001b[0;36mconcat\u001b[0;34m(objs, axis, join, join_axes, ignore_index, keys, levels, names, verify_integrity, copy)\u001b[0m\n\u001b[1;32m    752\u001b[0m                        \u001b[0mkeys\u001b[0m\u001b[0;34m=\u001b[0m\u001b[0mkeys\u001b[0m\u001b[0;34m,\u001b[0m \u001b[0mlevels\u001b[0m\u001b[0;34m=\u001b[0m\u001b[0mlevels\u001b[0m\u001b[0;34m,\u001b[0m \u001b[0mnames\u001b[0m\u001b[0;34m=\u001b[0m\u001b[0mnames\u001b[0m\u001b[0;34m,\u001b[0m\u001b[0;34m\u001b[0m\u001b[0m\n\u001b[1;32m    753\u001b[0m                        \u001b[0mverify_integrity\u001b[0m\u001b[0;34m=\u001b[0m\u001b[0mverify_integrity\u001b[0m\u001b[0;34m,\u001b[0m\u001b[0;34m\u001b[0m\u001b[0m\n\u001b[0;32m--> 754\u001b[0;31m                        copy=copy)\n\u001b[0m\u001b[1;32m    755\u001b[0m     \u001b[0;32mreturn\u001b[0m \u001b[0mop\u001b[0m\u001b[0;34m.\u001b[0m\u001b[0mget_result\u001b[0m\u001b[0;34m(\u001b[0m\u001b[0;34m)\u001b[0m\u001b[0;34m\u001b[0m\u001b[0m\n\u001b[1;32m    756\u001b[0m \u001b[0;34m\u001b[0m\u001b[0m\n",
      "\u001b[0;32m/Users/dev/anaconda/lib/python2.7/site-packages/pandas/tools/merge.pyc\u001b[0m in \u001b[0;36m__init__\u001b[0;34m(self, objs, axis, join, join_axes, keys, levels, names, ignore_index, verify_integrity, copy)\u001b[0m\n\u001b[1;32m    797\u001b[0m \u001b[0;34m\u001b[0m\u001b[0m\n\u001b[1;32m    798\u001b[0m         \u001b[0;32mif\u001b[0m \u001b[0mlen\u001b[0m\u001b[0;34m(\u001b[0m\u001b[0mobjs\u001b[0m\u001b[0;34m)\u001b[0m \u001b[0;34m==\u001b[0m \u001b[0;36m0\u001b[0m\u001b[0;34m:\u001b[0m\u001b[0;34m\u001b[0m\u001b[0m\n\u001b[0;32m--> 799\u001b[0;31m             \u001b[0;32mraise\u001b[0m \u001b[0mValueError\u001b[0m\u001b[0;34m(\u001b[0m\u001b[0;34m'All objects passed were None'\u001b[0m\u001b[0;34m)\u001b[0m\u001b[0;34m\u001b[0m\u001b[0m\n\u001b[0m\u001b[1;32m    800\u001b[0m \u001b[0;34m\u001b[0m\u001b[0m\n\u001b[1;32m    801\u001b[0m         \u001b[0;31m# consolidate data & figure out what our result ndim is going to be\u001b[0m\u001b[0;34m\u001b[0m\u001b[0;34m\u001b[0m\u001b[0m\n",
      "\u001b[0;31mValueError\u001b[0m: All objects passed were None"
     ]
    }
   ],
   "source": [
    "print(y[0].describe())\n",
    "print(y[0].columns)\n",
    "#counts by gender and race\n",
    "pd.crosstab(y[0]['attribute.gender.value'],y[0]['attribute.race.value'])\n",
    "#unique urls\n",
    "len(pd.unique(y[0]['url'])) \n"
   ]
  },
  {
   "cell_type": "code",
   "execution_count": 3,
   "metadata": {
    "collapsed": false
   },
   "outputs": [
    {
     "name": "stdout",
     "output_type": "stream",
     "text": [
      "{\"pagination\": {\"next_url\": \"https://api.instagram.com/v1/locations/1176637/media/recent?max_id=1075863708624140216&client_id=1b724eef0ecc4bd58e63cab65576bec5\", \"next_max_id\": \"1075863708624140216\"}, \"meta\": {\"code\": 200}, \"data\": [{\"attribution\": null, \"tags\": [\"style\", \"lamborghini\", \"nightout\", \"opiumbarcelona\", \"fashion\", \"redcarpet\", \"lamborghinidoors\", \"rental\", \"spain\"], \"user\": {\"username\": \"mr.juicy_jamie\", \"profile_picture\": \"https://igcdn-photos-e-a.akamaihd.net/hphotos-ak-xpa1/t51.2885-19/1742110_1616231481978140_553020968_a.jpg\", \"id\": \"1449605930\", \"full_name\": \"Jamie Bellucco\"}, \"comments\": {\"count\": 0, \"data\": []}, \"filter\": \"Hefe\", \"images\": {\"low_resolution\": {\"url\": \"https://scontent.cdninstagram.com/hphotos-xaf1/t51.2885-15/s320x320/e35/11881878_1498393017147001_881686938_n.jpg\", \"width\": 320, \"height\": 320}, \"thumbnail\": {\"url\": \"https://scontent.cdninstagram.com/hphotos-xaf1/t51.2885-15/s150x150/e35/11881878_1498393017147001_881686938_n.jpg\", \"width\": 150, \"height\": 150}, \"standard_resolution\": {\"url\": \"https://scontent.cdninstagram.com/hphotos-xaf1/t51.2885-15/s640x640/sh0.08/e35/11881878_1498393017147001_881686938_n.jpg\", \"width\": 640, \"height\": 640}}, \"link\": \"https://instagram.com/p/7vPlcPDo2_/\", \"location\": {\"latitude\": 41.385205161, \"name\": \"Opium Barcelona\", \"longitude\": 2.196830307, \"id\": 1176637}, \"created_time\": \"1442506786\", \"users_in_photo\": [], \"caption\": {\"created_time\": \"1442506786\", \"text\": \"I Still got it..\\ud83d\\ude12.. Pulling up to the club in style!! #lamborghini #lamborghinidoors #nightout #style #fashion #redcarpet #rental #spain #opiumbarcelona\", \"from\": {\"username\": \"mr.juicy_jamie\", \"profile_picture\": \"https://igcdn-photos-e-a.akamaihd.net/hphotos-ak-xpa1/t51.2885-19/1742110_1616231481978140_553020968_a.jpg\", \"id\": \"1449605930\", \"full_name\": \"Jamie Bellucco\"}, \"id\": \"1076147382570094322\"}, \"type\": \"image\", \"id\": \"1076147379600526783_1449605930\", \"likes\": {\"count\": 4, \"data\": [{\"username\": \"djbigwillie\", \"profile_picture\": \"https://scontent.cdninstagram.com/hphotos-xpa1/t51.2885-19/10787756_523199587817200_1127209243_a.jpg\", \"id\": \"16662664\", \"full_name\": \"B.I.G.WiLLiE\"}, {\"username\": \"jpostny\", \"profile_picture\": \"https://scontent.cdninstagram.com/hphotos-xaf1/t51.2885-19/11296758_1492789837680924_2136787586_a.jpg\", \"id\": \"232711808\", \"full_name\": \"J Post\"}, {\"username\": \"naiit\", \"profile_picture\": \"https://scontent.cdninstagram.com/hphotos-xaf1/t51.2885-19/11264740_1665197520383469_1570022903_a.jpg\", \"id\": \"23079844\", \"full_name\": \"Nathaniel Williamson.\"}, {\"username\": \"ivonne_jp23\", \"profile_picture\": \"https://igcdn-photos-h-a.akamaihd.net/hphotos-ak-xaf1/t51.2885-19/11377585_1117062034975815_525231765_a.jpg\", \"id\": \"643382340\", \"full_name\": \"Ivonne J Panduro\"}]}}, {\"attribution\": null, \"tags\": [\"beach\", \"sunnyday\", \"barcelona\", \"drinks\"], \"user\": {\"username\": \"tata_hk\", \"profile_picture\": \"https://scontent.cdninstagram.com/hphotos-xpf1/t51.2885-19/s150x150/10401605_1604329519828391_80937097_a.jpg\", \"id\": \"247214409\", \"full_name\": \"rita\"}, \"comments\": {\"count\": 0, \"data\": []}, \"filter\": \"Normal\", \"images\": {\"low_resolution\": {\"url\": \"https://scontent.cdninstagram.com/hphotos-xaf1/t51.2885-15/s320x320/e35/11875371_1033292933379422_1784978011_n.jpg\", \"width\": 320, \"height\": 320}, \"thumbnail\": {\"url\": \"https://scontent.cdninstagram.com/hphotos-xaf1/t51.2885-15/s150x150/e35/c0.124.1080.1080/11856619_1658509137764653_825098953_n.jpg\", \"width\": 150, \"height\": 150}, \"standard_resolution\": {\"url\": \"https://scontent.cdninstagram.com/hphotos-xaf1/t51.2885-15/s640x640/sh0.08/e35/11875371_1033292933379422_1784978011_n.jpg\", \"width\": 640, \"height\": 640}}, \"link\": \"https://instagram.com/p/7vM6CAROi4/\", \"location\": {\"latitude\": 41.385205161, \"name\": \"Opium Barcelona\", \"longitude\": 2.196830307, \"id\": 1176637}, \"created_time\": \"1442505382\", \"users_in_photo\": [], \"caption\": {\"created_time\": \"1442505382\", \"text\": \"#drinks #beach #barcelona #sunnyday\", \"from\": {\"username\": \"tata_hk\", \"profile_picture\": \"https://scontent.cdninstagram.com/hphotos-xpf1/t51.2885-19/s150x150/10401605_1604329519828391_80937097_a.jpg\", \"id\": \"247214409\", \"full_name\": \"rita\"}, \"id\": \"1076135606310201909\"}, \"type\": \"image\", \"id\": \"1076135600404621496_247214409\", \"likes\": {\"count\": 1, \"data\": [{\"username\": \"annamarta_agata\", \"profile_picture\": \"https://igcdn-photos-f-a.akamaihd.net/hphotos-ak-xaf1/t51.2885-19/11881737_550938508379045_665827629_a.jpg\", \"id\": \"1194049449\", \"full_name\": \"Anna Marta\"}]}}, {\"attribution\": null, \"videos\": {\"low_bandwidth\": {\"url\": \"https://scontent.cdninstagram.com/hphotos-xfa1/t50.2886-16/11912033_836307326490389_1401397479_s.mp4\", \"width\": 480, \"height\": 480}, \"low_resolution\": {\"url\": \"https://scontent.cdninstagram.com/hphotos-xfa1/t50.2886-16/11912033_836307326490389_1401397479_s.mp4\", \"width\": 480, \"height\": 480}, \"standard_resolution\": {\"url\": \"https://scontent.cdninstagram.com/hphotos-xfa1/t50.2886-16/11936429_1629611790660198_1826838079_n.mp4\", \"width\": 640, \"height\": 640}}, \"tags\": [\"europe\", \"letsgoback\", \"summer2015\", \"tipsy\", \"newexperiences\", \"tbt\", \"barcelona\", \"clubbing\", \"drunkmoments\", \"danceparty\", \"spinning\"], \"user\": {\"username\": \"miss_audreyharris\", \"profile_picture\": \"https://igcdn-photos-e-a.akamaihd.net/hphotos-ak-xaf1/t51.2885-19/s150x150/11820639_506533169520228_39071291_a.jpg\", \"id\": \"616051269\", \"full_name\": \"Audrey\"}, \"comments\": {\"count\": 0, \"data\": []}, \"filter\": \"Normal\", \"images\": {\"low_resolution\": {\"url\": \"https://scontent.cdninstagram.com/hphotos-xaf1/t51.2885-15/s320x320/e15/11821275_889570074455568_1683135147_n.jpg\", \"width\": 320, \"height\": 320}, \"thumbnail\": {\"url\": \"https://scontent.cdninstagram.com/hphotos-xaf1/t51.2885-15/s150x150/e15/11821275_889570074455568_1683135147_n.jpg\", \"width\": 150, \"height\": 150}, \"standard_resolution\": {\"url\": \"https://scontent.cdninstagram.com/hphotos-xaf1/t51.2885-15/e15/11821275_889570074455568_1683135147_n.jpg\", \"width\": 640, \"height\": 640}}, \"link\": \"https://instagram.com/p/7vH0vRE9or/\", \"location\": {\"latitude\": 41.385205161, \"name\": \"Opium Barcelona\", \"longitude\": 2.196830307, \"id\": 1176637}, \"created_time\": \"1442502717\", \"users_in_photo\": [], \"caption\": {\"created_time\": \"1442502717\", \"text\": \"#tbt to the Barcelona clubs \\u270c\\ud83c\\udffb\\ufe0f#summer2015 #Europe #Barcelona #clubbing #danceparty #newexperiences #letsgoback #drunkmoments #tipsy #spinning\", \"from\": {\"username\": \"miss_audreyharris\", \"profile_picture\": \"https://igcdn-photos-e-a.akamaihd.net/hphotos-ak-xaf1/t51.2885-19/s150x150/11820639_506533169520228_39071291_a.jpg\", \"id\": \"616051269\", \"full_name\": \"Audrey\"}, \"id\": \"1076113291066202248\"}, \"type\": \"video\", \"id\": \"1076113246455585323_616051269\", \"likes\": {\"count\": 25, \"data\": [{\"username\": \"fariborz_vernoos\", \"profile_picture\": \"https://scontent.cdninstagram.com/hphotos-xfa1/t51.2885-19/s150x150/11910371_1690259131207562_1154413122_a.jpg\", \"id\": \"973276000\", \"full_name\": \"\\ud83d\\udcab Fariborz Vernoos \\ud83d\\udcab\"}, {\"username\": \"vikakozhenkova\", \"profile_picture\": \"https://igcdn-photos-g-a.akamaihd.net/hphotos-ak-xaf1/t51.2885-19/s150x150/11375418_145667055768878_1877971141_a.jpg\", \"id\": \"597472307\", \"full_name\": \"Vikusha\\u2600\\ufe0f\"}, {\"username\": \"icasrom\", \"profile_picture\": \"https://scontent.cdninstagram.com/hphotos-xaf1/t51.2885-19/11230291_490409927774642_1107479728_a.jpg\", \"id\": \"718302748\", \"full_name\": \"Irene C. Romay \\ud83d\\udc80\"}, {\"username\": \"adorinf\", \"profile_picture\": \"https://igcdn-photos-f-a.akamaihd.net/hphotos-ak-xaf1/t51.2885-19/s150x150/11849023_765746660217725_791516194_a.jpg\", \"id\": \"480943302\", \"full_name\": \"- M.R.C.\"}]}}, {\"attribution\": null, \"tags\": [\"rerere\", \"repetados\", \"remuertos\", \"refiesteros\", \"reacabados\"], \"user\": {\"username\": \"frankcaro\", \"profile_picture\": \"https://igcdn-photos-e-a.akamaihd.net/hphotos-ak-xaf1/t51.2885-19/11247979_873375986049212_701135800_a.jpg\", \"id\": \"3596778\", \"full_name\": \"Frank Caro\"}, \"comments\": {\"count\": 2, \"data\": [{\"created_time\": \"1442497297\", \"text\": \"#rerotohastaelmartes \\ud83d\\ude02\\ud83d\\ude02\", \"from\": {\"username\": \"mikirizzo\", \"profile_picture\": \"https://scontent.cdninstagram.com/hphotos-xaf1/t51.2885-19/11252782_1504338893189736_57304423_a.jpg\", \"id\": \"1122454840\", \"full_name\": \"Miki Rizzo\"}, \"id\": \"1076067779974253756\"}, {\"created_time\": \"1442497381\", \"text\": \"#ReeeeeBodiachosss ??? \\ud83d\\ude0f\\ud83d\\ude0f\\ud83d\\ude0fjajajajajajajaja\", \"from\": {\"username\": \"ssaauuvvaaggee\", \"profile_picture\": \"https://igcdn-photos-f-a.akamaihd.net/hphotos-ak-xaf1/t51.2885-19/s150x150/11849884_871482249597061_597456895_a.jpg\", \"id\": \"175542687\", \"full_name\": \"FB:Lina Simone\"}, \"id\": \"1076068482922826985\"}]}, \"filter\": \"Clarendon\", \"images\": {\"low_resolution\": {\"url\": \"https://scontent.cdninstagram.com/hphotos-xaf1/t51.2885-15/s320x320/e35/11906337_1636405696609966_2140883206_n.jpg\", \"width\": 320, \"height\": 320}, \"thumbnail\": {\"url\": \"https://scontent.cdninstagram.com/hphotos-xaf1/t51.2885-15/s150x150/e35/11906337_1636405696609966_2140883206_n.jpg\", \"width\": 150, \"height\": 150}, \"standard_resolution\": {\"url\": \"https://scontent.cdninstagram.com/hphotos-xaf1/t51.2885-15/s640x640/sh0.08/e35/11906337_1636405696609966_2140883206_n.jpg\", \"width\": 640, \"height\": 640}}, \"link\": \"https://instagram.com/p/7u9PzRm88k/\", \"location\": {\"latitude\": 41.385205161, \"name\": \"Opium Barcelona\", \"longitude\": 2.196830307, \"id\": 1176637}, \"created_time\": \"1442497171\", \"users_in_photo\": [{\"position\": {\"y\": 0.429333333, \"x\": 0.461333333}, \"user\": {\"username\": \"saraquijano\", \"profile_picture\": \"https://igcdn-photos-c-a.akamaihd.net/hphotos-ak-xfp1/t51.2885-19/10706892_604507972982626_459229000_a.jpg\", \"id\": \"9856537\", \"full_name\": \"\\ud83d\\udebaSara Quijano\"}}, {\"position\": {\"y\": 0.478666667, \"x\": 0.697333333}, \"user\": {\"username\": \"mikirizzo\", \"profile_picture\": \"https://scontent.cdninstagram.com/hphotos-xaf1/t51.2885-19/11252782_1504338893189736_57304423_a.jpg\", \"id\": \"1122454840\", \"full_name\": \"Miki Rizzo\"}}], \"caption\": {\"created_time\": \"1442497171\", \"text\": \"#ReAcabados #RePetados #ReMuertos #ReFiesteros #ReReRe\", \"from\": {\"username\": \"frankcaro\", \"profile_picture\": \"https://igcdn-photos-e-a.akamaihd.net/hphotos-ak-xaf1/t51.2885-19/11247979_873375986049212_701135800_a.jpg\", \"id\": \"3596778\", \"full_name\": \"Frank Caro\"}, \"id\": \"1076066733185027191\"}, \"type\": \"image\", \"id\": \"1076066727673712420_3596778\", \"likes\": {\"count\": 45, \"data\": [{\"username\": \"mikirizzo\", \"profile_picture\": \"https://scontent.cdninstagram.com/hphotos-xaf1/t51.2885-19/11252782_1504338893189736_57304423_a.jpg\", \"id\": \"1122454840\", \"full_name\": \"Miki Rizzo\"}, {\"username\": \"gemaa06\", \"profile_picture\": \"https://igcdn-photos-g-a.akamaihd.net/hphotos-ak-xfa1/t51.2885-19/11326394_314218162035382_286115425_a.jpg\", \"id\": \"877327385\", \"full_name\": \"Gemma\"}, {\"username\": \"gggirissss\", \"profile_picture\": \"https://scontent.cdninstagram.com/hphotos-xfa1/t51.2885-19/s150x150/11374238_1474646099517223_1846341670_a.jpg\", \"id\": \"1192029228\", \"full_name\": \"Karan\"}, {\"username\": \"frantorres6\", \"profile_picture\": \"https://igcdn-photos-e-a.akamaihd.net/hphotos-ak-xaf1/t51.2885-19/s150x150/11821123_891143400954484_1246482356_a.jpg\", \"id\": \"1178595993\", \"full_name\": \"Fran Torres\"}]}}, {\"attribution\": null, \"tags\": [], \"user\": {\"username\": \"alemanymusic\", \"profile_picture\": \"https://scontent.cdninstagram.com/hphotos-xaf1/t51.2885-19/s150x150/11373688_487563214753002_2131345905_a.jpg\", \"id\": \"27848447\", \"full_name\": \"Alemany\"}, \"comments\": {\"count\": 0, \"data\": []}, \"filter\": \"Normal\", \"images\": {\"low_resolution\": {\"url\": \"https://scontent.cdninstagram.com/hphotos-xfa1/t51.2885-15/s320x320/e35/11849252_410009355851486_1240370951_n.jpg\", \"width\": 320, \"height\": 320}, \"thumbnail\": {\"url\": \"https://scontent.cdninstagram.com/hphotos-xfa1/t51.2885-15/s150x150/e35/11849252_410009355851486_1240370951_n.jpg\", \"width\": 150, \"height\": 150}, \"standard_resolution\": {\"url\": \"https://scontent.cdninstagram.com/hphotos-xfa1/t51.2885-15/s640x640/sh0.08/e35/11849252_410009355851486_1240370951_n.jpg\", \"width\": 640, \"height\": 640}}, \"link\": \"https://instagram.com/p/7u5GekteG0/\", \"location\": {\"latitude\": 41.385205161, \"name\": \"Opium Barcelona\", \"longitude\": 2.196830307, \"id\": 1176637}, \"created_time\": \"1442494998\", \"users_in_photo\": [{\"position\": {\"y\": 0.650666667, \"x\": 0.290666667}, \"user\": {\"username\": \"balr\", \"profile_picture\": \"https://igcdn-photos-g-a.akamaihd.net/hphotos-ak-xap1/t51.2885-19/11202928_509231785892630_1945954054_a.jpg\", \"id\": \"421476864\", \"full_name\": \"BALR.\"}}], \"caption\": {\"created_time\": \"1442494998\", \"text\": \"Back to the lab! See you tonight at @opiumbarcelona! Guest list at listas.opiumbarcelona.com \\ud83d\\udcf7: @joanmarcbosch\", \"from\": {\"username\": \"alemanymusic\", \"profile_picture\": \"https://scontent.cdninstagram.com/hphotos-xaf1/t51.2885-19/s150x150/11373688_487563214753002_2131345905_a.jpg\", \"id\": \"27848447\", \"full_name\": \"Alemany\"}, \"id\": \"1076048497938391096\"}, \"type\": \"image\", \"id\": \"1076048494784274868_27848447\", \"likes\": {\"count\": 112, \"data\": [{\"username\": \"2l_njla33\", \"profile_picture\": \"https://igcdn-photos-g-a.akamaihd.net/hphotos-ak-xaf1/t51.2885-19/s150x150/11336077_1501006373547598_386016007_a.jpg\", \"id\": \"1967432512\", \"full_name\": \"\\u0622\\u063a\\u0651 \\u0640\\u0648\\u0650\\u0303\\ud83c\\udf7c\"}, {\"username\": \"lookbox_studio\", \"profile_picture\": \"https://igcdn-photos-g-a.akamaihd.net/hphotos-ak-xaf1/t51.2885-19/s150x150/11906089_1634042420199662_2023402694_a.jpg\", \"id\": \"1992927657\", \"full_name\": \"LookBox\"}, {\"username\": \"raisavasc\", \"profile_picture\": \"https://igcdn-photos-d-a.akamaihd.net/hphotos-ak-xaf1/t51.2885-19/s150x150/11939505_730144997085155_457241002_a.jpg\", \"id\": \"2004575198\", \"full_name\": \"Raisa Vasconcelos\"}, {\"username\": \"avoima\", \"profile_picture\": \"https://igcdn-photos-e-a.akamaihd.net/hphotos-ak-xaf1/t51.2885-19/s150x150/11821116_1616244601959092_1695574148_a.jpg\", \"id\": \"2000182463\", \"full_name\": \"Kamal PJ\"}]}}, {\"attribution\": null, \"tags\": [], \"user\": {\"username\": \"fabanthares\", \"profile_picture\": \"https://igcdn-photos-c-a.akamaihd.net/hphotos-ak-xap1/t51.2885-19/10387818_1458018327774410_2006257735_a.jpg\", \"id\": \"49258444\", \"full_name\": \"Fabrice\"}, \"comments\": {\"count\": 1, \"data\": [{\"created_time\": \"1442501381\", \"text\": \"Opium je connais j y ai pass\\u00e9 une soir\\u00e9e et partie de la nuit une fois. De bon souvenirs\", \"from\": {\"username\": \"cat.cenol\", \"profile_picture\": \"https://scontent.cdninstagram.com/hphotos-xfp1/t51.2885-19/927991_658497640896363_1253204666_a.jpg\", \"id\": \"1400403821\", \"full_name\": \"\"}, \"id\": \"1076102043463439575\"}]}, \"filter\": \"Mayfair\", \"images\": {\"low_resolution\": {\"url\": \"https://scontent.cdninstagram.com/hphotos-xfa1/t51.2885-15/s320x320/e35/11910476_159092277765477_1385619302_n.jpg\", \"width\": 320, \"height\": 320}, \"thumbnail\": {\"url\": \"https://scontent.cdninstagram.com/hphotos-xfa1/t51.2885-15/s150x150/e35/11910476_159092277765477_1385619302_n.jpg\", \"width\": 150, \"height\": 150}, \"standard_resolution\": {\"url\": \"https://scontent.cdninstagram.com/hphotos-xfa1/t51.2885-15/s640x640/sh0.08/e35/11910476_159092277765477_1385619302_n.jpg\", \"width\": 640, \"height\": 640}}, \"link\": \"https://instagram.com/p/7u1kxStdRT/\", \"location\": {\"latitude\": 41.385205161, \"name\": \"Opium Barcelona\", \"longitude\": 2.196830307, \"id\": 1176637}, \"created_time\": \"1442493149\", \"users_in_photo\": [{\"position\": {\"y\": 0.6734375, \"x\": 0.334375}, \"user\": {\"username\": \"johnkebab\", \"profile_picture\": \"https://scontent.cdninstagram.com/hphotos-xaf1/t51.2885-19/10369513_1553982628160000_1038128195_a.jpg\", \"id\": \"42985063\", \"full_name\": \"johnkebab\"}}], \"caption\": null, \"type\": \"image\", \"id\": \"1076032984281633875_49258444\", \"likes\": {\"count\": 2, \"data\": [{\"username\": \"cat.cenol\", \"profile_picture\": \"https://scontent.cdninstagram.com/hphotos-xfp1/t51.2885-19/927991_658497640896363_1253204666_a.jpg\", \"id\": \"1400403821\", \"full_name\": \"\"}, {\"username\": \"megan.bls\", \"profile_picture\": \"https://scontent.cdninstagram.com/hphotos-xfa1/t51.2885-19/11850308_1630007480606145_379061385_a.jpg\", \"id\": \"228903791\", \"full_name\": \"M\\u00e9gan Bellas\"}]}}, {\"attribution\": null, \"tags\": [], \"user\": {\"username\": \"sophiewolsink\", \"profile_picture\": \"https://scontent.cdninstagram.com/hphotos-xfa1/l/t51.2885-19/11244065_1596129090656907_1632313300_a.jpg\", \"id\": \"301129329\", \"full_name\": \"\"}, \"comments\": {\"count\": 0, \"data\": []}, \"filter\": \"Normal\", \"images\": {\"low_resolution\": {\"url\": \"https://scontent.cdninstagram.com/hphotos-xfa1/t51.2885-15/s320x320/e35/11950586_993645210699673_95893220_n.jpg\", \"width\": 320, \"height\": 320}, \"thumbnail\": {\"url\": \"https://scontent.cdninstagram.com/hphotos-xfa1/t51.2885-15/s150x150/e35/11950586_993645210699673_95893220_n.jpg\", \"width\": 150, \"height\": 150}, \"standard_resolution\": {\"url\": \"https://scontent.cdninstagram.com/hphotos-xfa1/t51.2885-15/s640x640/sh0.08/e35/11950586_993645210699673_95893220_n.jpg\", \"width\": 640, \"height\": 640}}, \"link\": \"https://instagram.com/p/7urzBiw6iR/\", \"location\": {\"latitude\": 41.385205161, \"name\": \"Opium Barcelona\", \"longitude\": 2.196830307, \"id\": 1176637}, \"created_time\": \"1442488023\", \"users_in_photo\": [{\"position\": {\"y\": 0.822666667, \"x\": 0.453333333}, \"user\": {\"username\": \"kajsanurmi\", \"profile_picture\": \"https://scontent.cdninstagram.com/hphotos-xaf1/t51.2885-19/s150x150/11856631_908805859181470_92332715_a.jpg\", \"id\": \"223955175\", \"full_name\": \"Kajsa Nurmi\"}}], \"caption\": {\"created_time\": \"1442488023\", \"text\": \"Night out w/ my sis\", \"from\": {\"username\": \"sophiewolsink\", \"profile_picture\": \"https://scontent.cdninstagram.com/hphotos-xfa1/l/t51.2885-19/11244065_1596129090656907_1632313300_a.jpg\", \"id\": \"301129329\", \"full_name\": \"\"}, \"id\": \"1075989985158736700\"}, \"type\": \"image\", \"id\": \"1075989983338408081_301129329\", \"likes\": {\"count\": 122, \"data\": [{\"username\": \"maik_driessen\", \"profile_picture\": \"https://scontent.cdninstagram.com/hphotos-xpf1/t51.2885-19/s150x150/924023_529231060558370_1170446521_a.jpg\", \"id\": \"1422284776\", \"full_name\": \"Maik Driessen.\"}, {\"username\": \"thomas.vdm\", \"profile_picture\": \"https://igcdn-photos-b-a.akamaihd.net/hphotos-ak-xfa1/t51.2885-19/s150x150/11820605_170829366584817_1334123022_a.jpg\", \"id\": \"1449614706\", \"full_name\": \"\"}, {\"username\": \"jemaineeee\", \"profile_picture\": \"https://scontent.cdninstagram.com/hphotos-xaf1/l/t51.2885-19/s150x150/11849203_170159209983412_192294145_a.jpg\", \"id\": \"1282818770\", \"full_name\": \"Jemaine\\u2764\\ufe0f\"}, {\"username\": \"wies_1.0x\", \"profile_picture\": \"https://igcdn-photos-e-a.akamaihd.net/hphotos-ak-xaf1/t51.2885-19/s150x150/11906373_1623597634566268_1860266061_a.jpg\", \"id\": \"1289509322\", \"full_name\": \"wichelle.\"}]}}, {\"attribution\": null, \"videos\": {\"low_bandwidth\": {\"url\": \"https://scontent.cdninstagram.com/hphotos-xfa1/t50.2886-16/11936261_487683591395362_1662814536_s.mp4\", \"width\": 480, \"height\": 480}, \"low_resolution\": {\"url\": \"https://scontent.cdninstagram.com/hphotos-xfa1/t50.2886-16/11936261_487683591395362_1662814536_s.mp4\", \"width\": 480, \"height\": 480}, \"standard_resolution\": {\"url\": \"https://scontent.cdninstagram.com/hphotos-xaf1/t50.2886-16/12040038_1728108304079376_920245412_n.mp4\", \"width\": 640, \"height\": 640}}, \"tags\": [\"crazy\", \"partying\", \"guys\", \"love\", \"opiumbarcelona\", \"dayoff\", \"instaparty\", \"bestoftheday\", \"fun\", \"funtimes\", \"smile\", \"besties\", \"outfit\", \"friends\", \"chill\", \"music\", \"memories\", \"kickit\", \"girls\", \"instagood\", \"tagsforlikes\", \"goodtime\", \"kickinit\", \"chilling\", \"night\", \"instafun\", \"party\", \"cool\", \"friend\", \"funtime\"], \"user\": {\"username\": \"belhyze\", \"profile_picture\": \"https://scontent.cdninstagram.com/hphotos-xaf1/t51.2885-19/s150x150/11313580_879324562155952_1341140338_a.jpg\", \"id\": \"239656383\", \"full_name\": \"QUEEN MC \\ud83d\\udd39\"}, \"comments\": {\"count\": 2, \"data\": [{\"created_time\": \"1442486114\", \"text\": \"#party #partying #fun #TagsForLikes.com #instaparty #instafun #instagood #bestoftheday #crazy #friend #friends #besties #guys #girls #chill #chilling #kickit #kickinit #cool #love #memories #night #smile #music #outfit #funtime #funtimes #goodtime\", \"from\": {\"username\": \"belhyze\", \"profile_picture\": \"https://scontent.cdninstagram.com/hphotos-xaf1/t51.2885-19/s150x150/11313580_879324562155952_1341140338_a.jpg\", \"id\": \"239656383\", \"full_name\": \"QUEEN MC \\ud83d\\udd39\"}, \"id\": \"1075973975413465260\"}, {\"created_time\": \"1442492206\", \"text\": \"\\ud83d\\ude02\\ud83d\\ude02\\ud83d\\ude02\\ud83d\\ude02 qsq on a emmerdait  ce tigre\", \"from\": {\"username\": \"paloma_pistone\", \"profile_picture\": \"https://scontent.cdninstagram.com/hphotos-xaf1/t51.2885-19/s150x150/11325751_834510226663769_1259697086_a.jpg\", \"id\": \"1340170043\", \"full_name\": \"From Punta De Lobos Chile\"}, \"id\": \"1076025076154213000\"}]}, \"filter\": \"Lark\", \"images\": {\"low_resolution\": {\"url\": \"https://scontent.cdninstagram.com/hphotos-xaf1/t51.2885-15/s320x320/e15/11917785_1190726787609790_1310988424_n.jpg\", \"width\": 320, \"height\": 320}, \"thumbnail\": {\"url\": \"https://scontent.cdninstagram.com/hphotos-xaf1/t51.2885-15/s150x150/e15/11917785_1190726787609790_1310988424_n.jpg\", \"width\": 150, \"height\": 150}, \"standard_resolution\": {\"url\": \"https://scontent.cdninstagram.com/hphotos-xaf1/t51.2885-15/e15/11917785_1190726787609790_1310988424_n.jpg\", \"width\": 640, \"height\": 640}}, \"link\": \"https://instagram.com/p/7umXwdlaMm/\", \"location\": {\"latitude\": 41.385205161, \"name\": \"Opium Barcelona\", \"longitude\": 2.196830307, \"id\": 1176637}, \"created_time\": \"1442485178\", \"users_in_photo\": [], \"caption\": {\"created_time\": \"1442485178\", \"text\": \"Tiger in da club. GRrrr \\n#OpiumBarcelona #DayOFF\", \"from\": {\"username\": \"belhyze\", \"profile_picture\": \"https://scontent.cdninstagram.com/hphotos-xaf1/t51.2885-19/s150x150/11313580_879324562155952_1341140338_a.jpg\", \"id\": \"239656383\", \"full_name\": \"QUEEN MC \\ud83d\\udd39\"}, \"id\": \"1075967682313298751\"}, \"type\": \"video\", \"id\": \"1075966119339467558_239656383\", \"likes\": {\"count\": 84, \"data\": [{\"username\": \"hh___12223\", \"profile_picture\": \"https://scontent.cdninstagram.com/hphotos-xaf1/t51.2885-19/s150x150/11856726_877230249035691_2026210185_a.jpg\", \"id\": \"2012925961\", \"full_name\": \"hh___12223\"}, {\"username\": \"maureen.tapper\", \"profile_picture\": \"https://scontent.cdninstagram.com/hphotos-xpa1/t51.2885-19/11137712_574603385975352_1681405987_a.jpg\", \"id\": \"2091618019\", \"full_name\": \"Maureen Tapper\"}, {\"username\": \"abo_ras_yabs\", \"profile_picture\": \"https://scontent.cdninstagram.com/hphotos-xfa1/t51.2885-19/s150x150/11934575_737971892974867_1601080029_a.jpg\", \"id\": \"2017318164\", \"full_name\": \"\\ud83d\\ude14\\u064a\\u0627 \\u0627\\u0644\\u0644\\u0647 \\u0631\\u0627\\u062d\\u0648 \\u062d\\u0628\\u0627\\u0628\\u064a\\ud83d\\ude14\"}, {\"username\": \"f011owzgram11232223\", \"profile_picture\": \"https://igcdn-photos-e-a.akamaihd.net/hphotos-ak-xaf1/t51.2885-19/s150x150/11333374_1170464896303348_222401445_a.jpg\", \"id\": \"2102934381\", \"full_name\": \"HHFC no.15\\u26a1BALE\\u26a1\"}]}}, {\"attribution\": null, \"tags\": [\"adamsontour\"], \"user\": {\"username\": \"beckyzammit\", \"profile_picture\": \"https://igcdn-photos-e-a.akamaihd.net/hphotos-ak-xfa1/t51.2885-19/11241722_893427854054796_15716093_a.jpg\", \"id\": \"273960258\", \"full_name\": \"Becky Zammit\"}, \"comments\": {\"count\": 1, \"data\": [{\"created_time\": \"1442484675\", \"text\": \"Very jealous! Have a great time girls :) xxxx\", \"from\": {\"username\": \"elleborg\", \"profile_picture\": \"https://igcdn-photos-d-a.akamaihd.net/hphotos-ak-xfp1/t51.2885-19/10520373_585261738260139_55472698_a.jpg\", \"id\": \"199783029\", \"full_name\": \"EBX\"}, \"id\": \"1075961898543091354\"}]}, \"filter\": \"Normal\", \"images\": {\"low_resolution\": {\"url\": \"https://scontent.cdninstagram.com/hphotos-xaf1/t51.2885-15/s320x320/e35/11352057_1643577722565884_912918441_n.jpg\", \"width\": 320, \"height\": 320}, \"thumbnail\": {\"url\": \"https://scontent.cdninstagram.com/hphotos-xaf1/t51.2885-15/s150x150/e35/11352057_1643577722565884_912918441_n.jpg\", \"width\": 150, \"height\": 150}, \"standard_resolution\": {\"url\": \"https://scontent.cdninstagram.com/hphotos-xaf1/t51.2885-15/s640x640/sh0.08/e35/11352057_1643577722565884_912918441_n.jpg\", \"width\": 640, \"height\": 640}}, \"link\": \"https://instagram.com/p/7ukJWdhAwX/\", \"location\": {\"latitude\": 41.385205161, \"name\": \"Opium Barcelona\", \"longitude\": 2.196830307, \"id\": 1176637}, \"created_time\": \"1442484011\", \"users_in_photo\": [{\"position\": {\"y\": 0.46388888, \"x\": 0.08240741}, \"user\": {\"username\": \"clarissafene\", \"profile_picture\": \"https://scontent.cdninstagram.com/hphotos-xaf1/t51.2885-19/s150x150/11349376_701549069978661_1644138809_a.jpg\", \"id\": \"276095122\", \"full_name\": \"Clarissa Fenech\"}}, {\"position\": {\"y\": 0.44537038, \"x\": 0.23425926}, \"user\": {\"username\": \"ramonazammit\", \"profile_picture\": \"https://scontent.cdninstagram.com/hphotos-xaf1/t51.2885-19/10616664_594525970656323_1460900369_a.jpg\", \"id\": \"392866017\", \"full_name\": \"Ramona\"}}, {\"position\": {\"y\": 0.38981482, \"x\": 0.2898148}, \"user\": {\"username\": \"rachelripard\", \"profile_picture\": \"https://igcdn-photos-d-a.akamaihd.net/hphotos-ak-xfp1/t51.2885-19/11116621_754634211322011_615062750_a.jpg\", \"id\": \"28991307\", \"full_name\": \"\"}}, {\"position\": {\"y\": 0.64074075, \"x\": 0.44722223}, \"user\": {\"username\": \"kyrafa02\", \"profile_picture\": \"https://igcdn-photos-f-a.akamaihd.net/hphotos-ak-xaf1/t51.2885-19/11849923_150439501961797_1014525277_a.jpg\", \"id\": \"310230876\", \"full_name\": \"Kyra Fenech Azzopardi \\u2600\\ufe0f\\ud83c\\udf77\\ud83c\\udf66\\ud83c\\udf88\"}}, {\"position\": {\"y\": 0.41990742, \"x\": 0.6699074}, \"user\": {\"username\": \"hannahev13\", \"profile_picture\": \"https://scontent.cdninstagram.com/hphotos-xpf1/t51.2885-19/10957372_352718148256137_412544999_a.jpg\", \"id\": \"308127498\", \"full_name\": \"Hannah\"}}, {\"position\": {\"y\": 0.36944443, \"x\": 0.8648148}, \"user\": {\"username\": \"bettinagalea\", \"profile_picture\": \"https://scontent.cdninstagram.com/hphotos-xfa1/t51.2885-19/11419226_871226326282576_851129267_a.jpg\", \"id\": \"263851751\", \"full_name\": \"Bettina\"}}], \"caption\": {\"created_time\": \"1442484011\", \"text\": \"First night in Barcelona\\ud83d\\ude45 #adamsontour\", \"from\": {\"username\": \"beckyzammit\", \"profile_picture\": \"https://igcdn-photos-e-a.akamaihd.net/hphotos-ak-xfa1/t51.2885-19/11241722_893427854054796_15716093_a.jpg\", \"id\": \"273960258\", \"full_name\": \"Becky Zammit\"}, \"id\": \"1075956336744992135\"}, \"type\": \"image\", \"id\": \"1075956333255330839_273960258\", \"likes\": {\"count\": 14, \"data\": [{\"username\": \"etranter\", \"profile_picture\": \"https://igcdn-photos-a-a.akamaihd.net/hphotos-ak-xaf1/t51.2885-19/s150x150/11909095_455795327936704_64214072_a.jpg\", \"id\": \"229860120\", \"full_name\": \"Emma Tranter\"}, {\"username\": \"ivan_freestyle\", \"profile_picture\": \"https://igcdn-photos-c-a.akamaihd.net/hphotos-ak-xpt1/t51.2885-19/10817771_1566973230185418_527798711_a.jpg\", \"id\": \"239264883\", \"full_name\": \"Ivan Cannizzo\"}, {\"username\": \"elleborg\", \"profile_picture\": \"https://igcdn-photos-d-a.akamaihd.net/hphotos-ak-xfp1/t51.2885-19/10520373_585261738260139_55472698_a.jpg\", \"id\": \"199783029\", \"full_name\": \"EBX\"}, {\"username\": \"liamfenech\", \"profile_picture\": \"https://igcdn-photos-b-a.akamaihd.net/hphotos-ak-xaf1/t51.2885-19/s150x150/11850039_1497062470613985_407240708_a.jpg\", \"id\": \"212097629\", \"full_name\": \"Liam Fenech\"}]}}, {\"attribution\": null, \"tags\": [\"spain\", \"opium\", \"party\", \"nighout\", \"barcelona\", \"nightclub\"], \"user\": {\"username\": \"jenniferverce\", \"profile_picture\": \"https://scontent.cdninstagram.com/hphotos-xap1/t51.2885-19/10748109_301495040048954_2023873865_a.jpg\", \"id\": \"44484524\", \"full_name\": \"Jenn'\"}, \"comments\": {\"count\": 0, \"data\": []}, \"filter\": \"Normal\", \"images\": {\"low_resolution\": {\"url\": \"https://scontent.cdninstagram.com/hphotos-xaf1/t51.2885-15/s320x320/e35/11849004_946936388685382_1662527619_n.jpg\", \"width\": 320, \"height\": 320}, \"thumbnail\": {\"url\": \"https://scontent.cdninstagram.com/hphotos-xaf1/t51.2885-15/s150x150/e35/11849004_946936388685382_1662527619_n.jpg\", \"width\": 150, \"height\": 150}, \"standard_resolution\": {\"url\": \"https://scontent.cdninstagram.com/hphotos-xaf1/t51.2885-15/s640x640/sh0.08/e35/11849004_946936388685382_1662527619_n.jpg\", \"width\": 640, \"height\": 640}}, \"link\": \"https://instagram.com/p/7uPFfDRre4/\", \"location\": {\"latitude\": 41.385205161, \"name\": \"Opium Barcelona\", \"longitude\": 2.196830307, \"id\": 1176637}, \"created_time\": \"1442472970\", \"users_in_photo\": [], \"caption\": {\"created_time\": \"1442472970\", \"text\": \"O p i u m #barcelona #spain #nighout #opium #nightclub #party\", \"from\": {\"username\": \"jenniferverce\", \"profile_picture\": \"https://scontent.cdninstagram.com/hphotos-xap1/t51.2885-19/10748109_301495040048954_2023873865_a.jpg\", \"id\": \"44484524\", \"full_name\": \"Jenn'\"}, \"id\": \"1075863710486410843\"}, \"type\": \"image\", \"id\": \"1075863708624140216_44484524\", \"likes\": {\"count\": 20, \"data\": [{\"username\": \"heidilottaa\", \"profile_picture\": \"https://scontent.cdninstagram.com/hphotos-xaf1/t51.2885-19/s150x150/11820585_1487304994903301_514579414_a.jpg\", \"id\": \"1418408809\", \"full_name\": \"\"}, {\"username\": \"val_pix\", \"profile_picture\": \"https://scontent.cdninstagram.com/hphotos-xaf1/t51.2885-19/s150x150/11350986_923115704394528_148916210_a.jpg\", \"id\": \"239630991\", \"full_name\": \"\"}, {\"username\": \"3llienina\", \"profile_picture\": \"https://igcdn-photos-e-a.akamaihd.net/hphotos-ak-xaf1/t51.2885-19/11875281_1613495128932252_1462044173_a.jpg\", \"id\": \"472723966\", \"full_name\": \"\"}, {\"username\": \"mankrout\", \"profile_picture\": \"https://igcdn-photos-g-a.akamaihd.net/hphotos-ak-xaf1/t51.2885-19/s150x150/11375770_1044724925560918_282892706_a.jpg\", \"id\": \"1052215545\", \"full_name\": \"Soul Traveler \\ud83c\\udf05\"}]}}]}\n"
     ]
    }
   ],
   "source": [
    "import json \n",
    "import time\n",
    "import requests\n",
    "import urllib, urllib2\n",
    "from lxml import html\n",
    "from lxml import etree\n",
    "import locale\n",
    "import random\n",
    "\n",
    "def getFBtoInstagramUrls(fbPageName):\n",
    "    #Get FB place id\n",
    "    url = 'https://www.facebook.com/' + fbPageName\n",
    "    r = requests.get(url)\n",
    "    facebookID = r.text.split('\"pageID\":\"')[1].split('\"')[0]\n",
    "\n",
    "    instagramAPIUrl = 'https://api.instagram.com/v1/locations/search?facebook_places_id={0}&client_id=1b724eef0ecc4bd58e63cab65576bec5'\n",
    "\n",
    "    url = instagramAPIUrl.format(facebookID)\n",
    "    r = requests.get(url)\n",
    "    data = json.loads(r.text)\n",
    "    instagramID = data['data'][0]['id']\n",
    "    instagramMediaUrl = 'https://api.instagram.com/v1/locations/{0}/media/recent?client_id=1b724eef0ecc4bd58e63cab65576bec5'\n",
    "    \n",
    "    url = instagramMediaUrl.format(instagramID)\n",
    "\n",
    "    r = requests.get(url)\n",
    "    data = json.loads(r.text)\n",
    "    print(json.dumps(data))\n",
    "\n",
    "getFBtoInstagramUrls('opiumbarcelona')"
   ]
  },
  {
   "cell_type": "code",
   "execution_count": 104,
   "metadata": {
    "collapsed": false
   },
   "outputs": [
    {
     "data": {
      "text/html": [
       "<div>\n",
       "<table border=\"1\" class=\"dataframe\">\n",
       "  <thead>\n",
       "    <tr style=\"text-align: right;\">\n",
       "      <th></th>\n",
       "      <th>0</th>\n",
       "    </tr>\n",
       "  </thead>\n",
       "  <tbody>\n",
       "    <tr>\n",
       "      <th>0</th>\n",
       "      <td>https://scontent-mad1-1.xx.fbcdn.net/hphotos-x...</td>\n",
       "    </tr>\n",
       "  </tbody>\n",
       "</table>\n",
       "</div>"
      ],
      "text/plain": [
       "                                                   0\n",
       "0  https://scontent-mad1-1.xx.fbcdn.net/hphotos-x..."
      ]
     },
     "execution_count": 104,
     "metadata": {},
     "output_type": "execute_result"
    }
   ],
   "source": [
    "\n",
    "#get_face_meta_url(found_files, api)\n",
    "imgpath = 'https://scontent-mad1-1.xx.fbcdn.net/hphotos-xtp1/v/t1.0-9/p720x720/12036888_967934779934337_933584483124047997_n.jpg?oh=355ce31c18ebe08d6a754b47e528c2ed&oe=56A0C1D7'\n",
    "[imgpath*4]"
   ]
  },
  {
   "cell_type": "code",
   "execution_count": null,
   "metadata": {
    "collapsed": true
   },
   "outputs": [],
   "source": [
    "def distance(df,side1,side2):\n",
    "    x=((df[side1+'.x'] - df[side2+'.x'])**2 +(df[side1+'.y'] - df[side2+'.y'])**2)**0.5\n",
    "    return x\n",
    "\n",
    "def midpoint(df,side1,side2):\n",
    "    x = (df[side1+'.x'] - df[side2+'.x'])/2.0 + df[side1+'.x'] \n",
    "    y = (df[side1+'.y'] - df[side2+'.y'])/2.0 + df[side1+'.y']\n",
    "    return x , y\n",
    "    \n",
    "    \n",
    "def beauty(df, df2):    \n",
    "    dfout = pd.DataFrame()  \n",
    "    dfout['faceId'] = df['face_id']\n",
    "    dfout['age'] = df2['attribute.age.value']\n",
    "    dfout['ageRange'] = df2['attribute.age.range']\n",
    "    dfout['gender'] = df2['attribute.gender.confidence']\n",
    "    dfout['genderConfidence'] = df2['attribute.gender.value']\n",
    "    dfout['pitchAngle']  = df2['attribute.pose.pitch_angle.value']\n",
    "    dfout['rollAngle'] = df2['attribute.pose.roll_angle.value']\n",
    "    dfout['yawAngle'] = df2['attribute.pose.yaw_angle.value']\n",
    "    dfout['raceConfidence'] = df2['attribute.race.confidence']\n",
    "    dfout['race'] = df2['attribute.race.value']\n",
    "    dfout['innerEyeDist'] = distance(df,'left_eye_right_corner','right_eye_left_corner')\n",
    "    dfout['pupilDist'] = distance(df,'left_eye_pupil','right_eye_pupil')\n",
    "    dfout['mouthWidth'] = distance(df,'mouth_right_corner','mouth_left_corner')\n",
    "    dfout['lowerLipThick'] = distance(df,'mouth_lower_lip_top','mouth_lower_lip_bottom')\n",
    "    dfout['upperLipThick'] = distance(df,'mouth_upper_lip_top','mouth_upper_lip_bottom')\n",
    "    dfout['lowerThird'] = distance(df,'mouth_right_corner','mouth_left_corner')\n",
    "    dfout['noseWidth'] = distance(df, 'nose_right', 'nose_left')\n",
    "    dfout['eyebrowInnerDist'] = distance(df, left_eyebrow_left_corner )\n",
    "    df['midpt_pupil.x'] = midpoint(df, 'left_eye_pupil', 'right_eye_pupil')[0]\n",
    "    df['midpt_pupil.y'] = midpoint(df, 'left_eye_pupil', 'right_eye_pupil')[1]\n",
    "    dfout['pupilChinDist'] = distance(df, 'midpt_pupil', 'contour_chin')\n",
    "    dfout['pupilNostrilDist'] = distance(df, 'midpt_pupil', 'nose_contour_lower_middle')\n",
    "    dfout['pupilCenterLip'] = distance(df, 'midpt_pupil', 'contour_chin')\n",
    "    dfout['noseTipChinDist'] = distance(df, 'nose_tip', 'contour_chin')\n",
    "    dfout['nostrilChinDist'] = distance(df, 'nose_contour_lower_middle', 'contour_chin')\n",
    "    for i in range(1,10):\n",
    "       df['contourDist'+str(i)] = distance(df, 'contour_left'+str(i), 'contour_right'+str(i))  \n",
    "    dfout['faceWidth'] = df[['contourDist'+str(i) for i in range(1,10)]].max(axis=1)   \n",
    "    dfout['ratioPupilDistFaceWidth'] = dfout['pupilDist']/dfout['faceWidth']\n",
    "    dfout['ratioInnerEyeNoseWidth'] = dfout['innerEyeDist']/dfout['noseWidth']\n",
    "    dfout['ratioUpperLowerLip'] = dfout['upperLipThick']/dfout['lowerLipThick']\n",
    "    dfout['ratioPupilDistFaceWidth'] = dfout['pupilDist']/dfout['faceWidth']\n",
    "    dfout['ratioInnerEyeNoseWidth'] = dfout['innerEyeDist']/dfout['noseWidth']\n",
    "    dfout['ratioUpperLowerLip'] = dfout['upperLipThick']/dfout['lowerLipThick']\n",
    "    return dfout\n",
    "    \n",
    "allFaces2 = test[0]\n",
    "metaFaces = test[2]\n",
    "beauty(allFaces2, metaFaces )"
   ]
  }
 ],
 "metadata": {
  "kernelspec": {
   "display_name": "Python 2",
   "language": "python",
   "name": "python2"
  },
  "language_info": {
   "codemirror_mode": {
    "name": "ipython",
    "version": 2
   },
   "file_extension": ".py",
   "mimetype": "text/x-python",
   "name": "python",
   "nbconvert_exporter": "python",
   "pygments_lexer": "ipython2",
   "version": "2.7.10"
  }
 },
 "nbformat": 4,
 "nbformat_minor": 0
}
