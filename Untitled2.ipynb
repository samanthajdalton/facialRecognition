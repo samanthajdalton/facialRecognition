{
 "cells": [
  {
   "cell_type": "code",
   "execution_count": null,
   "metadata": {
    "collapsed": true
   },
   "outputs": [],
   "source": [
    "import cv2\n",
    "from facepp import API, File\n",
    "import pandas as pd\n",
    "import time\n",
    "from pandas.io.json import json_normalize\n",
    "\n",
    "from pandas import compat\n",
    "from findtools.find_files import (find_files, Match)\n",
    "import codecs\n",
    "from pandas import compat\n",
    "import ast, json\n",
    "from pandas import DataFrame\n",
    "import yaml\n",
    "import numpy as np\n",
    "from __future__ import division\n",
    "import simplejson\n",
    "import tmpFB\n",
    "import time\n",
    "import codecs\n",
    "import ast\n",
    "\n",
    "api = API('b40d3ea28aad1f2c2aa939dec674abff', '_gYS77zBAL0U60gtv_qebqwRmRWJz4c1')\n",
    "\n",
    "\n",
    "def get_face_meta_url(found_files, api, club):\n",
    "\n",
    "    facesMeta = pd.DataFrame()\n",
    "    facesMetaList = []\n",
    "    noFaces = []\n",
    "    \n",
    "    for imgpath in found_files: \n",
    "        print(imgpath)\n",
    "        result = api.detection.detect(url = imgpath,  attribute=\"pose,age,gender,race\")       \n",
    "        r_dump = json.dumps(result)\n",
    "        result2=yaml.safe_load(r_dump)\n",
    "        if len(result['face']) > 0:\n",
    "            for face in result['face']:\n",
    "                tempDict = face\n",
    "                tempDict['url'] = imgpath\n",
    "                tempDict['img_width'] = result['img_width']\n",
    "                tempDict['img_height'] = result['img_height']\n",
    "                facesMetaList.append(tempDict)\n",
    "                temp = json_normalize(tempDict)\n",
    "                facesMeta = pd.concat([facesMeta, temp], axis=0, ignore_index = True) \n",
    "        if len(result['face']) == 0:\n",
    "            noFaces.append(imgpath)\n",
    "            \n",
    "        \n",
    "    facesMeta.to_pickle(\"./data/facesMeta\" + club + \".pkl\")\n",
    "    \n",
    "    return(facesMeta, facesMetaList)\n",
    "    "
   ]
  }
 ],
 "metadata": {
  "kernelspec": {
   "display_name": "Python 2",
   "language": "python",
   "name": "python2"
  },
  "language_info": {
   "codemirror_mode": {
    "name": "ipython",
    "version": 2
   },
   "file_extension": ".py",
   "mimetype": "text/x-python",
   "name": "python",
   "nbconvert_exporter": "python",
   "pygments_lexer": "ipython2",
   "version": "2.7.10"
  }
 },
 "nbformat": 4,
 "nbformat_minor": 0
}
