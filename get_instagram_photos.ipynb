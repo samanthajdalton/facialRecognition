{
 "cells": [
  {
   "cell_type": "code",
   "execution_count": 13,
   "metadata": {},
   "outputs": [
    {
     "name": "stdout",
     "output_type": "stream",
     "text": [
      "https://scontent.cdninstagram.com/hphotos-xaf1/t51.2885-15/s640x640/sh0.08/e35/11850301_1633040266938493_305902935_n.jpg\n",
      "https://scontent.cdninstagram.com/hphotos-xfa1/t51.2885-15/s640x640/sh0.08/e35/1208158_1481052112215827_1385097894_n.jpg\n",
      "https://scontent.cdninstagram.com/hphotos-xfa1/t51.2885-15/s640x640/e15/11930873_451431391703860_1052822633_n.jpg\n",
      "https://scontent.cdninstagram.com/hphotos-xfa1/t51.2885-15/s640x640/sh0.08/e35/11939603_876516019063429_514425281_n.jpg\n",
      "https://scontent.cdninstagram.com/hphotos-xaf1/t51.2885-15/e15/11906310_443422542508878_1952957846_n.jpg\n",
      "https://scontent.cdninstagram.com/hphotos-xaf1/t51.2885-15/s640x640/sh0.08/e35/11821156_1625160671095884_387160139_n.jpg\n",
      "https://scontent.cdninstagram.com/hphotos-xaf1/t51.2885-15/e15/11906364_1726931930863199_2138264591_n.jpg\n",
      "https://scontent.cdninstagram.com/hphotos-xfa1/t51.2885-15/e15/11821166_821458134618205_1260930805_n.jpg\n",
      "https://scontent.cdninstagram.com/hphotos-xaf1/t51.2885-15/s640x640/sh0.08/e35/11370997_1892709304286527_667650734_n.jpg\n",
      "https://scontent.cdninstagram.com/hphotos-xaf1/t51.2885-15/s640x640/sh0.08/e35/11925795_1029012353795750_1764534837_n.jpg\n",
      "https://scontent.cdninstagram.com/hphotos-xfa1/t51.2885-15/s640x640/sh0.08/e35/11374010_163817537284740_817376174_n.jpg\n",
      "https://3mbflwxdmdmxzo6y.igsonar.com/hphotos-ak-xaf1/t51.2885-15/s640x640/e15/11899693_893047404066247_897154075_n.jpg\n",
      "https://scontent.cdninstagram.com/hphotos-xaf1/t51.2885-15/s640x640/sh0.08/e35/11910222_1483009078688665_1542545404_n.jpg\n",
      "https://scontent.cdninstagram.com/hphotos-xaf1/t51.2885-15/s640x640/sh0.08/e35/11821767_1474275916229806_572527058_n.jpg\n",
      "https://scontent.cdninstagram.com/hphotos-xaf1/t51.2885-15/e15/11420731_422343337948904_284139365_n.jpg\n",
      "https://scontent.cdninstagram.com/hphotos-xaf1/t51.2885-15/s640x640/sh0.08/e35/11246217_605301329610825_50637244_n.jpg\n",
      "https://scontent.cdninstagram.com/hphotos-xaf1/t51.2885-15/e15/11821803_453140421537224_1406294301_n.jpg\n",
      "https://scontent.cdninstagram.com/hphotos-xfa1/t51.2885-15/e15/11349230_1052536611436812_1999955933_n.jpg\n",
      "https://scontent.cdninstagram.com/hphotos-xaf1/t51.2885-15/e15/11887030_717894008317015_322096599_n.jpg\n",
      "https://scontent.cdninstagram.com/hphotos-xaf1/t51.2885-15/s640x640/e15/11899539_1486015381709969_1084571675_n.jpg\n",
      "https://scontent.cdninstagram.com/hphotos-xaf1/t51.2885-15/e15/11925888_1650487128527364_893704132_n.jpg\n",
      "https://scontent.cdninstagram.com/hphotos-xaf1/t51.2885-15/e15/11350690_654329464667474_676178658_n.jpg\n",
      "https://scontent.cdninstagram.com/hphotos-xfa1/t51.2885-15/s640x640/sh0.08/e35/11909987_974613715939426_259206233_n.jpg\n",
      "https://scontent.cdninstagram.com/hphotos-xfa1/t51.2885-15/e15/11917763_946961258709077_2082811421_n.jpg\n",
      "https://scontent.cdninstagram.com/hphotos-xaf1/t51.2885-15/e15/11296893_936424023070511_1012879043_n.jpg\n",
      "https://scontent.cdninstagram.com/hphotos-xaf1/t51.2885-15/s640x640/sh0.08/e35/11856618_1486931384953833_355541544_n.jpg\n",
      "https://scontent.cdninstagram.com/hphotos-xaf1/t51.2885-15/s640x640/sh0.08/e35/11350833_1687022048187807_1360788189_n.jpg\n",
      "https://scontent.cdninstagram.com/hphotos-xaf1/t51.2885-15/e15/11899563_463395630498258_1963670367_n.jpg\n",
      "https://scontent.cdninstagram.com/hphotos-xfa1/t51.2885-15/s640x640/sh0.08/e35/11324297_114235935594353_1744458922_n.jpg\n",
      "https://scontent.cdninstagram.com/hphotos-xfa1/t51.2885-15/s640x640/e15/11375744_1095670223794311_713285430_n.jpg\n",
      "https://scontent.cdninstagram.com/hphotos-xfa1/t51.2885-15/s640x640/sh0.08/e35/11934695_1905657159658579_726565834_n.jpg\n",
      "https://scontent.cdninstagram.com/hphotos-xaf1/t51.2885-15/s640x640/sh0.08/e35/11850138_1716893175200981_541807725_n.jpg\n",
      "https://scontent.cdninstagram.com/hphotos-xfa1/t51.2885-15/s640x640/sh0.08/e35/11910128_954055164645394_1030569446_n.jpg\n"
     ]
    }
   ],
   "source": [
    "import wget\n",
    "import requests\n",
    "import json\n",
    "\n",
    "lat = 41.385514\n",
    "lon = 2.197003\n",
    "dist= 15\n",
    "\n",
    "class InstagramFilesMain(object):\n",
    "    \n",
    "    def __init__(self,path):\n",
    "        self.imgPath = path ### change this path\n",
    "\n",
    "        \n",
    "    def downloadProcess(self):\n",
    "        url = 'https://api.instagram.com/v1/tags/opiumbarcelona/media/recent?client_id=1b724eef0ecc4bd58e63cab65576bec5&count=500'        \n",
    "        r = requests.get(url) \n",
    "        data = json.loads(r.text)\n",
    "        data_json = json.dumps(obj = data, indent = 4)\n",
    "        fd = open(self.imgPath+\"/details.json\", \"w\")\n",
    "        fd.write(data_json)\n",
    "        fd.close()\n",
    "        data['data']\n",
    "        for item in data['data']:\n",
    "            pic_url = item['images']['standard_resolution']['url']\n",
    "            #.replace('.jpg','.jpeg')\n",
    "            print(pic_url)\n",
    "            wget.download(pic_url, out=self.imgPath )\n",
    "\n",
    "path=  \"/Users/dev/Desktop/repos/faces/pic\"          \n",
    "main = InstagramFilesMain(path)\n",
    "main.downloadProcess()"
   ]
  },
  {
   "cell_type": "code",
   "execution_count": 6,
   "metadata": {},
   "outputs": [
    {
     "ename": "AttributeError",
     "evalue": "'function' object has no attribute 'data_json'",
     "output_type": "error",
     "traceback": [
      "\u001b[0;31m---------------------------------------------------------------------------\u001b[0m",
      "\u001b[0;31mAttributeError\u001b[0m                            Traceback (most recent call last)",
      "\u001b[0;32m<ipython-input-6-19ab29267a92>\u001b[0m in \u001b[0;36m<module>\u001b[0;34m()\u001b[0m\n\u001b[0;32m----> 1\u001b[0;31m \u001b[0;32mprint\u001b[0m\u001b[0;34m(\u001b[0m\u001b[0mmain\u001b[0m\u001b[0;34m.\u001b[0m\u001b[0mdownloadProcess\u001b[0m\u001b[0;34m.\u001b[0m\u001b[0mdata_json\u001b[0m\u001b[0;34m)\u001b[0m\u001b[0;34m\u001b[0m\u001b[0m\n\u001b[0m",
      "\u001b[0;31mAttributeError\u001b[0m: 'function' object has no attribute 'data_json'"
     ]
    }
   ],
   "source": [
    "print(main.downloadProcess)"
   ]
  },
  {
   "cell_type": "code",
   "execution_count": null,
   "metadata": {},
   "outputs": [],
   "source": [
    "url = 'https://api.instagram.com/v1/media/search?&lat=' + str(lat) + \\\n",
    "               \"&lng=\" + str(lon) + \"&distance=\" + str(dist) + \"&count=1000&client_id=1b724eef0ecc4bd58e63cab65576bec5\""
   ]
  }
 ],
 "metadata": {
  "kernelspec": {
   "display_name": "Python 2",
   "language": "python",
   "name": "python2"
  },
  "language_info": {
   "codemirror_mode": {
    "name": "ipython",
    "version": 2.0
   },
   "file_extension": ".py",
   "mimetype": "text/x-python",
   "name": "python",
   "nbconvert_exporter": "python",
   "pygments_lexer": "ipython2",
   "version": "2.7.10"
  }
 },
 "nbformat": 4,
 "nbformat_minor": 0
}