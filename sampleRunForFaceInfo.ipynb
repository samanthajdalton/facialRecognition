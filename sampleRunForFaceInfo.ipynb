{
 "cells": [
  {
   "cell_type": "code",
   "execution_count": 4,
   "metadata": {
    "collapsed": true
   },
   "outputs": [],
   "source": [
    "import json \n",
    "import time\n",
    "import requests\n",
    "import urllib, urllib2\n",
    "from lxml import html\n",
    "from lxml import etree\n",
    "import locale\n",
    "import random\n",
    "import pymongo\n",
    "from selenium import webdriver  \n",
    "from selenium.common.exceptions import TimeoutException\n",
    "from selenium.webdriver.common.by import By\n",
    "from selenium.webdriver.support.ui import WebDriverWait\n",
    "from selenium.webdriver.support import expected_conditions as EC\n"
   ]
  },
  {
   "cell_type": "code",
   "execution_count": 42,
   "metadata": {
    "collapsed": true
   },
   "outputs": [],
   "source": [
    "#Connect to mongo\n",
    "conn = pymongo.MongoClient()\n",
    "db = conn.faces\n",
    "collection = db.urlClubPhotos"
   ]
  },
  {
   "cell_type": "code",
   "execution_count": 38,
   "metadata": {
    "collapsed": false,
    "scrolled": true
   },
   "outputs": [],
   "source": [
    "#Set toScroll = False for testing & fbPageName is name of club's fb page\n",
    "listOfUrls = []\n",
    "listOfImageUrls = []\n",
    "def getPicUrls(fbPageName, toScroll):\n",
    "    pg = 0\n",
    "    driver = webdriver.Chrome()\n",
    "    driver.get('https://www.facebook.com/' + fbPageName + '/photos_stream?')\n",
    "\n",
    "    url = 'https://www.facebook.com/' + fbPageName\n",
    "    r = requests.get(url)\n",
    "    facebookID = r.text.split('\"pageID\":\"')[1].split('\"')[0]\n",
    "       \n",
    "    #Get thumbnails of images    \n",
    "    scroll = True\n",
    "    while scroll:\n",
    "        pg += 1\n",
    "        print(pg)\n",
    "        a = len(listOfUrls)\n",
    "        driver.execute_script(\"window.scrollTo(0, document.body.scrollHeight);\")\n",
    "        for i in driver.find_elements_by_xpath(\"//*[@class='uiMediaThumb _6i9 uiMediaThumbMedium']\"):\n",
    "            tempDict = {}\n",
    "            tempDict['thumbUrl'] = i.get_attribute(\"href\")\n",
    "            listOfUrls.append(tempDict['thumbUrl'])\n",
    "            r = requests.get(tempDict['thumbUrl'])\n",
    "            tree = html.fromstring(r.text)\n",
    "            for htmlObject in tree.xpath(\"//img[@class='fbPhotoImage img']\"): \n",
    "                tempDict['urlOfImage'] = htmlObject.attrib['src']\n",
    "                listOfImageUrls.append(tempDict['urlOfImage'])\n",
    "            for htmlObject2 in tree.xpath(\"//abbr\"):  \n",
    "                tempDict['albumTitle'] = htmlObject2.attrib['title']\n",
    "                tempDict['uploadTime'] = htmlObject2.attrib['data-utime']\n",
    "                tempDict['fbPageName'] = fbPageName\n",
    "            collection.insert(tempDict)\n",
    "            \n",
    "        scroll = toScroll\n",
    "\n",
    "        b = len(listOfUrls)\n",
    "\n",
    "        \n",
    "        if a == b:\n",
    "            scroll = False\n",
    "\n"
   ]
  },
  {
   "cell_type": "code",
   "execution_count": 29,
   "metadata": {
    "collapsed": true
   },
   "outputs": [],
   "source": [
    "fbPageName='opiumbarcelona'"
   ]
  },
  {
   "cell_type": "code",
   "execution_count": 43,
   "metadata": {
    "collapsed": false
   },
   "outputs": [
    {
     "name": "stdout",
     "output_type": "stream",
     "text": [
      "1\n"
     ]
    }
   ],
   "source": [
    "getPicUrls(fbPageName, False)\n"
   ]
  },
  {
   "cell_type": "code",
   "execution_count": 44,
   "metadata": {
    "collapsed": true
   },
   "outputs": [],
   "source": [
    "conn = pymongo.MongoClient()\n",
    "db = conn.faces\n",
    "collection = db.facesMeta\n",
    "collection1 = db.urlClubPhotos"
   ]
  },
  {
   "cell_type": "code",
   "execution_count": null,
   "metadata": {
    "collapsed": true
   },
   "outputs": [],
   "source": [
    "collection"
   ]
  },
  {
   "cell_type": "code",
   "execution_count": null,
   "metadata": {
    "collapsed": true
   },
   "outputs": [],
   "source": [
    "from __future__ import division\n",
    "from facepp import API, File\n",
    "import json\n",
    "from pandas.io.json import json_normalize\n",
    "import pandas as pd\n",
    "import time\n",
    "import cv2\n",
    "from pandas import compat\n",
    "from findtools.find_files import (find_files, Match)\n",
    "import codecs\n",
    "from pandas import compat\n",
    "import ast, json\n",
    "from pandas import DataFrame\n",
    "import yaml\n",
    "import numpy as np\n",
    "\n",
    "import simplejson\n",
    "import tmpFB\n",
    "import time\n",
    "import codecs\n",
    "import ast\n",
    "\n",
    "api = API('b40d3ea28aad1f2c2aa939dec674abff', '_gYS77zBAL0U60gtv_qebqwRmRWJz4c1')\n",
    "\n",
    "\n",
    "def get_face_meta_url(found_files, api, club):\n",
    "\n",
    "    facesMeta = pd.DataFrame()\n",
    "    facesMetaList = []\n",
    "    noFaces = []\n",
    "\n",
    "    for idx, imgpath in enumerate(found_files):\n",
    "        try:\n",
    "            result = api.detection.detect(url = imgpath,  attribute=\"pose,age,gender,race,smile\")\n",
    "            r_dump = json.dumps(result)\n",
    "            result2=yaml.safe_load(r_dump)\n",
    "            if idx % 100 == 0:\n",
    "                print('still going')\n",
    "            if len(result['face']) > 0:\n",
    "                for face in result['face']:\n",
    "                    tempDict = face\n",
    "                    tempDict['url'] = imgpath\n",
    "                    tempDict['img_width'] = result['img_width']\n",
    "                    tempDict['img_height'] = result['img_height']\n",
    "                    facesMetaList.append(tempDict)\n",
    "                    temp = json_normalize(tempDict)\n",
    "                    facesMeta = pd.concat([facesMeta, temp], axis=0, ignore_index = True)\n",
    "            if len(result['face']) == 0:\n",
    "                noFaces.append(imgpath)\n",
    "        except:        \n",
    "            time.sleep(60)\n",
    "            print('sleeping at' + str(idx))\n",
    "\n",
    "    facesMeta.to_pickle(\"./data/facesMeta\" + club + \"_\" + time.strftime(\"%Y%m%d\")  + \".pkl\")\n",
    "\n",
    "    return(facesMeta, facesMetaList)"
   ]
  }
 ],
 "metadata": {
  "kernelspec": {
   "display_name": "Python 2",
   "language": "python",
   "name": "python2"
  },
  "language_info": {
   "codemirror_mode": {
    "name": "ipython",
    "version": 2
   },
   "file_extension": ".py",
   "mimetype": "text/x-python",
   "name": "python",
   "nbconvert_exporter": "python",
   "pygments_lexer": "ipython2",
   "version": "2.7.10"
  }
 },
 "nbformat": 4,
 "nbformat_minor": 0
}
