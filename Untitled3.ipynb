{
 "cells": [
  {
   "cell_type": "code",
   "execution_count": 2,
   "metadata": {
    "collapsed": true
   },
   "outputs": [],
   "source": [
    "import json \n",
    "import time\n",
    "import requests\n",
    "import urllib, urllib2\n",
    "from lxml import html\n",
    "from lxml import etree\n",
    "import locale\n",
    "import random\n",
    "import pymongo\n",
    "from selenium import webdriver  \n",
    "from selenium.common.exceptions import TimeoutException\n",
    "from selenium.webdriver.common.by import By\n",
    "from selenium.webdriver.support.ui import WebDriverWait\n",
    "from selenium.webdriver.support import expected_conditions as EC\n"
   ]
  },
  {
   "cell_type": "code",
   "execution_count": 21,
   "metadata": {
    "collapsed": true
   },
   "outputs": [],
   "source": [
    "#Connect to mongo\n",
    "conn = pymongo.MongoClient()\n",
    "db = conn.faces\n",
    "collection = db.urlClubPhotos"
   ]
  },
  {
   "cell_type": "code",
   "execution_count": 22,
   "metadata": {
    "collapsed": false,
    "scrolled": true
   },
   "outputs": [],
   "source": [
    "#Set toScroll = False for testing & fbPageName is name of club's fb page\n",
    "def getPicUrls(fbPageName, toScroll):\n",
    "    driver = webdriver.Chrome()\n",
    "    driver.get('https://www.facebook.com/' + fbPageName + '/photos_stream?')\n",
    "\n",
    "    url = 'https://www.facebook.com/' + fbPageName\n",
    "    r = requests.get(url)\n",
    "    facebookID = r.text.split('\"pageID\":\"')[1].split('\"')[0]\n",
    "       \n",
    "   \n",
    "    db.drop_collection('temp')\n",
    "    db.create_collection('temp')\n",
    "    #Get thumbnails of images    \n",
    "    scroll = True\n",
    "    while scroll:\n",
    "        a = len(listOfUrls)\n",
    "        driver.execute_script(\"window.scrollTo(0, document.body.scrollHeight);\")\n",
    "        for i in driver.find_elements_by_xpath(\"//*[@class='uiMediaThumb _6i9 uiMediaThumbMedium']\"):\n",
    "            tempDict = {}\n",
    "            tempDict['thumbUrl'] = i.get_attribute(\"href\")\n",
    "            r = requests.get(thumbUrl)\n",
    "            tree = html.fromstring(r.text)\n",
    "            for htmlObject in tree.xpath(\"//img[@class='fbPhotoImage img']\"): \n",
    "                tempDict['urlOfImage'] = htmlObject.attrib['src']\n",
    "                listOfImageUrls.append(urlOfImage)\n",
    "            for htmlObject2 in tree.xpath(\"//abbr\"):  \n",
    "                tempDict['albumTitle'] = htmlObject2.attrib['title']\n",
    "                tempDict['uploadTime'] = htmlObject2.attrib['data-utime']\n",
    "                tempDict['fbPageName'] = fbPageName\n",
    "            collection.insert(tempDict)\n",
    "            \n",
    "            scroll = toScroll\n",
    "\n",
    "        b = len(listOfUrls)\n",
    "\n",
    "        \n",
    "        if a == b:\n",
    "            scroll = False\n",
    "\n",
    "getPicUrls('opiumbarcelona', False)"
   ]
  }
 ],
 "metadata": {
  "kernelspec": {
   "display_name": "Python 2",
   "language": "python",
   "name": "python2"
  }
 },
 "nbformat": 4,
 "nbformat_minor": 0
}
